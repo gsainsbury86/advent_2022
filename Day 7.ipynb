{
 "cells": [
  {
   "cell_type": "code",
   "execution_count": 1,
   "id": "31398159-84ac-46bc-a619-5bd4aef17207",
   "metadata": {},
   "outputs": [],
   "source": [
    "import requests\n",
    "year = 2022\n",
    "day = 7\n",
    "url = f\"https://adventofcode.com/{year}/day/{day}/input\"\n",
    "\n",
    "with open('cookie.txt', 'r') as file:\n",
    "    session = file.read()\n",
    "\n",
    "headers = {'cookie': f\"session={session}\"}\n",
    "\n",
    "with open(f'day_{day}_input.txt', 'wb') as file:\n",
    "    file.write(requests.get(url, headers=headers).content)"
   ]
  },
  {
   "cell_type": "code",
   "execution_count": 228,
   "id": "e0ece930-2410-4583-ae76-f979195b5442",
   "metadata": {},
   "outputs": [
    {
     "name": "stdout",
     "output_type": "stream",
     "text": [
      "$ cd /\n",
      "$ ls\n",
      "dir fchrtcbh\n",
      "dir hlnbrj\n",
      "dir jbt\n"
     ]
    }
   ],
   "source": [
    "lines = [x for x in open(f'day_{day}_input.txt', 'r')]\n",
    "for line in lines[:5]:\n",
    "    print(line.strip())"
   ]
  },
  {
   "cell_type": "code",
   "execution_count": 235,
   "id": "a86634f1-20c5-4fa9-a0fe-e510072415f5",
   "metadata": {},
   "outputs": [
    {
     "name": "stdout",
     "output_type": "stream",
     "text": [
      "48044502\n"
     ]
    }
   ],
   "source": [
    "from pprint import pprint\n",
    "import pandas as pd\n",
    "\n",
    "from functools import reduce  # forward compatibility for Python 3\n",
    "import operator\n",
    "\n",
    "def getFromDict(dataDict, mapList):\n",
    "    return reduce(operator.getitem, mapList, dataDict)\n",
    "\n",
    "def setInDict(dataDict, mapList, value):\n",
    "    getFromDict(dataDict, mapList[:-1])[mapList[-1]] = value\n",
    "\n",
    "cur_dir = ''\n",
    "in_output = False\n",
    "\n",
    "directories = {'/':{}}\n",
    "\n",
    "for line in lines:\n",
    "    line = line.strip()\n",
    "    #print(line)\n",
    "    if line.startswith('$'):\n",
    "        if line.startswith('$ cd'):\n",
    "            #print(cur_dir)\n",
    "            if line == '$ cd /':\n",
    "                cur_dir = list('/')\n",
    "            elif line == '$ cd ..':\n",
    "                cur_dir.pop()\n",
    "                in_output = False\n",
    "            elif line.startswith('$ cd'):\n",
    "                cur_dir = cur_dir + [x for x in line[5:].split('/')]\n",
    "                # files[\"/\".join(cur_dir)] = dict()\n",
    "            #print(line, cur_dir)\n",
    "            #print()\n",
    "    else:\n",
    "        in_output = True\n",
    "        dir_or_size, name = line.strip().split(' ')[0:2]\n",
    "        \n",
    "        try:\n",
    "            getFromDict(directories, cur_dir + [name])\n",
    "        except KeyError:\n",
    "            if dir_or_size == 'dir':\n",
    "                setInDict(directories, cur_dir + [name], {})\n",
    "            else:\n",
    "                size = int(dir_or_size)\n",
    "                setInDict(directories, cur_dir + [name], size)\n",
    "\n",
    "list_of_sizes = []\n",
    "\n",
    "def recursive_size(dir_dict, curr_path):\n",
    "    size = 0\n",
    "    for k, v in dir_dict.items():\n",
    "        if isinstance(v, int):\n",
    "            size = size + v\n",
    "        else:\n",
    "            size = size + recursive_size(v, curr_path + [k])\n",
    "    list_of_sizes.append({'dir':\"/\".join(curr_path), 'size':size})\n",
    "    return size\n",
    "            \n",
    "print(recursive_size(directories, []))\n",
    "    \n"
   ]
  },
  {
   "cell_type": "code",
   "execution_count": 237,
   "id": "98288137-929d-44e9-844d-3c40f69a9dc3",
   "metadata": {},
   "outputs": [
    {
     "name": "stdout",
     "output_type": "stream",
     "text": [
      "dir     //fchrtcbh/fct/ctzphlhl//fchrtcbh/fct//jbt/bbm...\n",
      "size                                              1449447\n",
      "dtype: object\n"
     ]
    }
   ],
   "source": [
    "df = pd.DataFrame(list_of_sizes)\n",
    "df = df[df['size'] <= 100000]\n",
    "\n",
    "#WRONG 48044502\n",
    "\n",
    "df = df.sum()\n",
    "print(df)\n"
   ]
  },
  {
   "cell_type": "code",
   "execution_count": null,
   "id": "4e5c41c5-eede-44a1-9b73-7dfe9a6c19e4",
   "metadata": {},
   "outputs": [],
   "source": [
    "# Part 2 "
   ]
  },
  {
   "cell_type": "code",
   "execution_count": 253,
   "id": "2de518bf-bd88-469c-9c86-d1b52db92fd2",
   "metadata": {},
   "outputs": [
    {
     "name": "stdout",
     "output_type": "stream",
     "text": [
      "48044502\n",
      "8044502\n",
      "                      dir      size\n",
      "114  //jbt/bbm/tvqh/vjdjl   8679207\n",
      "116        //jbt/bbm/tvqh  21420854\n",
      "117             //jbt/bbm  30005381\n",
      "141                 //jbt  34676561\n",
      "184             //tmcpgtz  11142386\n",
      "185                     /  48044502\n",
      "186                        48044502\n"
     ]
    }
   ],
   "source": [
    "total_size = 70000000\n",
    "unused_space_req = 30000000\n",
    "\n",
    "df = pd.DataFrame(list_of_sizes)\n",
    "\n",
    "cur_size = df['size'].max()\n",
    "print(cur_size)\n",
    "min_deletion = cur_size - (total_size - unused_space_req)\n",
    "print(min_deletion)\n",
    "print(df[df['size'] > min_deletion])\n",
    "\n",
    "#WRONG 21420854 too high"
   ]
  },
  {
   "cell_type": "code",
   "execution_count": null,
   "id": "9aebd7c2-9ab0-4dde-991d-2e4c9a5cf9f1",
   "metadata": {},
   "outputs": [],
   "source": []
  },
  {
   "cell_type": "code",
   "execution_count": null,
   "id": "2b5872a7-7958-4ff9-bb65-86b22c63604e",
   "metadata": {},
   "outputs": [],
   "source": []
  },
  {
   "cell_type": "code",
   "execution_count": null,
   "id": "6247be41-696a-4244-8fe1-63b273aeb2c6",
   "metadata": {},
   "outputs": [],
   "source": []
  }
 ],
 "metadata": {
  "kernelspec": {
   "display_name": "Python 3 (ipykernel)",
   "language": "python",
   "name": "python3"
  },
  "language_info": {
   "codemirror_mode": {
    "name": "ipython",
    "version": 3
   },
   "file_extension": ".py",
   "mimetype": "text/x-python",
   "name": "python",
   "nbconvert_exporter": "python",
   "pygments_lexer": "ipython3",
   "version": "3.10.6"
  }
 },
 "nbformat": 4,
 "nbformat_minor": 5
}
