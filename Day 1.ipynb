{
 "cells": [
  {
   "cell_type": "code",
   "execution_count": 22,
   "id": "4d4dcb6c-188e-406e-904a-5ad320d0a522",
   "metadata": {},
   "outputs": [],
   "source": [
    "import requests\n",
    "year = 2022\n",
    "day = 1\n",
    "url = f\"https://adventofcode.com/{year}/day/{day}/input\"\n",
    "\n",
    "with open('cookie.txt', 'r') as file:\n",
    "    session = file.read()\n",
    "\n",
    "headers = {'cookie': f\"session={session}\"}\n",
    "\n",
    "with open(f'day_{day}_input.txt', 'wb') as file:\n",
    "    file.write(requests.get(url, headers=headers).content)"
   ]
  },
  {
   "cell_type": "code",
   "execution_count": 26,
   "id": "30379637-baa2-4f1f-851d-f3b977cb875c",
   "metadata": {},
   "outputs": [
    {
     "name": "stdout",
     "output_type": "stream",
     "text": [
      "['9609', '7601', '7142', '5278', '9374']\n"
     ]
    }
   ],
   "source": [
    "lines = [x.strip() for x in open(f'day_{day}_input.txt', 'r')]\n",
    "print(lines[:5])"
   ]
  },
  {
   "cell_type": "code",
   "execution_count": 19,
   "id": "4a3c808e-7c6f-4ee4-a1de-e613215e4e9a",
   "metadata": {},
   "outputs": [
    {
     "name": "stdout",
     "output_type": "stream",
     "text": [
      "[61214, 41078, 48349, 56958, 48857, 54100, 51848, 61462, 48028, 39087, 53714, 40982, 55570, 40451, 44148, 69249, 40468, 43799, 49972, 36453, 48511, 53964, 60993, 41413, 66701, 38950, 39801, 65600, 71300, 60345, 61670, 32529, 48122, 35762, 46624, 34646, 34587, 44517, 49933, 51346, 37574, 56576, 48746, 43282, 42206, 34506, 55219, 49527, 47119, 31216, 41878, 41663, 29946, 52993, 54335, 37064, 39614, 53231, 39309, 49800, 51779, 44800, 53486, 61677, 36840, 41999, 41036, 50556, 49006, 40514, 43624, 41183, 45564, 52181, 21627, 40691, 57292, 51815, 57941, 62584, 48573, 27508, 42816, 45484, 40155, 49878, 49278, 49670, 35972, 39557, 46623, 51115, 29994, 53978, 52255, 38383, 60129, 61775, 37371, 37176, 61603, 51071, 38596, 56562, 58413, 48073, 51828, 42581, 40146, 54313, 50627, 49304, 39688, 59814, 69142, 57061, 61577, 44407, 38038, 54754, 52062, 46275, 54979, 48177, 35470, 54248, 36498, 33154, 47597, 52150, 34809, 56394, 46168, 44864, 36808, 44567, 36912, 32565, 42583, 59349, 38747, 35750, 54338, 35390, 48763, 41964, 49247, 60180, 51228, 33450, 59642, 44613, 52452, 35599, 50457, 54080, 45391, 48919, 46785, 24490, 46695, 45080, 46207, 43754, 57792, 34154, 37304, 47551, 58438, 53663, 40167, 55051, 57824, 67203, 58020, 32502, 54099, 43849, 42306, 48547, 59767, 51518, 37695, 37078, 41349, 48622, 37437, 44917, 47341, 50413, 58968, 43137, 58240, 40716, 28157, 21279, 38453, 53628, 38708, 57895, 51581, 8659, 40073, 55264, 37257, 57546, 27009, 39905, 58602, 62336, 13990, 47152, 55976, 41577, 43718, 48390, 59517, 50919, 8546, 51711, 9850, 55812, 46221, 36037, 44868, 49032, 33302, 59556, 57932, 40941, 38088, 47237, 55372, 37876, 34217, 45527, 52071, 51207, 42783, 17962, 34906, 36846, 39925, 42834, 53906, 22149, 56602, 47783, 48840, 20975]\n",
      "71300\n"
     ]
    }
   ],
   "source": [
    "calories = list()\n",
    "total = 0\n",
    "for line in lines:\n",
    "    if line == '':\n",
    "        calories.append(total)\n",
    "        total = 0\n",
    "    else:\n",
    "        total = total + int(line)\n",
    "\n",
    "print(calories)\n",
    "print(max(calories))"
   ]
  },
  {
   "cell_type": "code",
   "execution_count": 27,
   "id": "99c52664-66ed-4ec9-9169-2d67a6252742",
   "metadata": {},
   "outputs": [
    {
     "data": {
      "text/plain": [
       "209691"
      ]
     },
     "execution_count": 27,
     "metadata": {},
     "output_type": "execute_result"
    }
   ],
   "source": [
    "sum(sorted(calories)[-3:])"
   ]
  },
  {
   "cell_type": "code",
   "execution_count": 47,
   "id": "4b287a2f-60fe-4634-abf7-906b0f034d50",
   "metadata": {},
   "outputs": [
    {
     "name": "stdout",
     "output_type": "stream",
     "text": [
      "71300\n"
     ]
    }
   ],
   "source": [
    "\n",
    "# int_lines = list()\n",
    "# for item in lines:\n",
    "#     stripped = item.strip()\n",
    "#     int_item = int(stripped)\n",
    "#     int_lines.append(int_item)\n",
    "\n",
    "# #int_lines = [int(x.strip()) for x in lines]\n",
    "    \n",
    "# print(int_lines[0:3])\n",
    "# print(lines[0:3])\n",
    "# lines = ['A\\n','B\\n','C\\n','A\\n','B\\n','C\\n']\n",
    "\n",
    "\n",
    "int_lines = list()\n",
    "for item in lines:\n",
    "    if item != '':\n",
    "        stripped = item.strip()\n",
    "        int_item = int(stripped)\n",
    "    else:\n",
    "        int_item = item\n",
    "    int_lines.append(int_item)\n",
    "\n",
    "\n",
    "# this will return the index of all of the blank spaces\n",
    "indices = [i for i, e in enumerate(lines) if e == '']\n",
    "\n",
    "end_indices = indices\n",
    "\n",
    "start_indices = [-1] + end_indices[:-1]\n",
    "\n",
    "elf_clusters = [int_lines[start_indices[n]+1:end_indices[n]] for n in range(0,len(start_indices))]\n",
    "\n",
    "#print(elf_clusters)\n",
    "\n",
    "sum_of_clusters = [sum(x) for x in elf_clusters]\n",
    "\n",
    "print(max(sum_of_clusters))"
   ]
  },
  {
   "cell_type": "code",
   "execution_count": null,
   "id": "058454a9-6d71-4059-bbce-6a93b35a9515",
   "metadata": {},
   "outputs": [],
   "source": []
  }
 ],
 "metadata": {
  "kernelspec": {
   "display_name": "Python 3 (ipykernel)",
   "language": "python",
   "name": "python3"
  },
  "language_info": {
   "codemirror_mode": {
    "name": "ipython",
    "version": 3
   },
   "file_extension": ".py",
   "mimetype": "text/x-python",
   "name": "python",
   "nbconvert_exporter": "python",
   "pygments_lexer": "ipython3",
   "version": "3.10.6"
  }
 },
 "nbformat": 4,
 "nbformat_minor": 5
}
