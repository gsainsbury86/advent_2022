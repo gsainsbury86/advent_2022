{
 "cells": [
  {
   "cell_type": "code",
   "execution_count": 2,
   "id": "1d541553-0fe7-41e2-b150-dc5ba5b4fd0f",
   "metadata": {},
   "outputs": [
    {
     "name": "stdout",
     "output_type": "stream",
     "text": [
      "1\n",
      "2\n",
      "-3\n",
      "3\n",
      "-2\n",
      "0\n",
      "4\n",
      "---\n",
      "---\n",
      "7063\n",
      "-550\n",
      "5206\n",
      "-9194\n",
      "-2569\n",
      "-6855\n",
      "7665\n",
      "-8312\n",
      "6390\n",
      "-3524\n"
     ]
    }
   ],
   "source": [
    "import requests\n",
    "year = 2022\n",
    "day = 20\n",
    "\n",
    "url = f\"https://adventofcode.com/{year}/day/{day}/input\"\n",
    "\n",
    "with open('cookie.txt', 'r') as file:\n",
    "    session = file.read()\n",
    "\n",
    "headers = {'cookie': f\"session={session}\"}\n",
    "\n",
    "with open(f'inputs/day_{day}_input.txt', 'wb') as file:\n",
    "    file.write(requests.get(url, headers=headers).content)\n",
    "    \n",
    "import os\n",
    "if os.path.exists(f\"inputs/day_{day}_test.txt\"):\n",
    "    test = [x.strip() for x in open(f'inputs/day_{day}_test.txt', 'r')]\n",
    "    for line in test[:10]:\n",
    "        print(line.strip())\n",
    "print(\"---\")\n",
    "if os.path.exists(f\"inputs/day_{day}_test_2.txt\"):\n",
    "    test_2 = [x.strip() for x in open(f'day_{day}_test_2.txt', 'r')]\n",
    "    for line in test[:10]:\n",
    "        print(line.strip())\n",
    "print(\"---\")\n",
    "lines = [x.strip() for x in open(f'inputs/day_{day}_input.txt', 'r')]\n",
    "for line in lines[:10]:\n",
    "    print(line.strip())"
   ]
  },
  {
   "cell_type": "code",
   "execution_count": 63,
   "id": "8a2e4000-492e-4593-a466-c236fcdc438b",
   "metadata": {},
   "outputs": [
    {
     "name": "stdout",
     "output_type": "stream",
     "text": [
      "[-1878, 9186, -596]\n",
      "6712\n"
     ]
    }
   ],
   "source": [
    "import re\n",
    "\n",
    "run_test = False\n",
    "\n",
    "if run_test:\n",
    "    case = test\n",
    "else:\n",
    "    case = lines\n",
    "\n",
    "case = [(int(x), False) for x in case]\n",
    "\n",
    "mixed = case.copy()\n",
    "\n",
    "def mix(value_to_mix, mixed):\n",
    "    \n",
    "    mixed = mixed.copy()\n",
    "    index_to_mix = mixed.index(value_to_mix)\n",
    "        \n",
    "    mixed.remove(value_to_mix)\n",
    "    \n",
    "    index_to_insert = (index_to_mix + value_to_mix[0])%len(mixed)\n",
    "    mixed.insert(index_to_insert, (value_to_mix[0], True))\n",
    "        \n",
    "    return mixed\n",
    "    \n",
    "for i in range(len(case)):\n",
    "    mixed = mix(case[i], mixed)\n",
    "    \n",
    "index_0 = mixed.index((0,True))\n",
    "\n",
    "print(list(mixed[(index_0+x)%len(mixed)][0] for x in [1000,2000,3000]))\n",
    "print(sum(mixed[(index_0+x)%len(mixed)][0] for x in [1000,2000,3000]))\n",
    "\n",
    "# -21179 is wrong\n",
    "\n",
    "# 6712 is right."
   ]
  },
  {
   "cell_type": "code",
   "execution_count": 104,
   "id": "d63298b9-3566-45c2-8a74-1e26bd28572a",
   "metadata": {},
   "outputs": [
    {
     "name": "stdout",
     "output_type": "stream",
     "text": [
      "0 [5732254187639, -446374034150, 4225133130518, -7461750672682, -2084972534057, -5563443643815, 6220830857745, -6745929039736, 5186054687670, -2860040175172]\n",
      "------\n",
      "1 [789676245869, 7249925903749, 5610515814689, -3176559944842, -604633918985, -2630360444873, 2351173776241, -3039401377985, 3212269867574, -191535040108]\n",
      "------\n",
      "2 [5941644189113, 626546826116, 740980896689, 6075556399358, 4418291348932, 4963679259748, 6241120586570, 3552325722681, 279186668632, 425272716172]\n",
      "------\n",
      "3 [5398691045756, 3923221965602, 5218518253790, -4286813906146, 4967737205513, 4451566504205, 1141094349118, -4066873245683, -6418047021924, 6053643492227]\n",
      "------\n",
      "4 [928457991032, -6849000862167, -2247290364657, 3458992970086, 703647795651, 4591159838521, 1179239039309, 66550310546, 2893315330445, 1598019042257]\n",
      "------\n",
      "5 [7671952263309, -2162073503592, 8015254475028, 7158216329460, 385504847675, -4311973169889, -6030918995943, 6008194499659, -2825953430746, 5081359686933]\n",
      "------\n",
      "6 [3153835448558, 6404250006323, 4945012709229, 7943834629564, 758024268902, 1209267837970, -3773077972297, 5435212557641, 4142351036912, -3902932236777]\n",
      "------\n",
      "7 [-231302908605, -6043904422391, -2031407649959, 268636009643, -5205532827342, -3176559944842, 2650650173698, -6093411360724, 7753922767762, 2576795560775]\n",
      "------\n",
      "8 [-3614818087462, -2619809785884, 3246356612000, 6169700741106, 3110009634296, 3250414557765, 1378078381794, 2887634206374, -412287289724, -1318020784472]\n",
      "------\n",
      "9 [-7639488697189, 1066428147042, -7325403694978, -5289938099254, -2368217148454, -7646792999566, -341679033413, 4339567201091, -2297608892143, 7502330130332]\n",
      "------\n",
      "10 [7599720828692, 5226634145320, -1107007604692, 2570302847551, -6312540432034, -2498883002087, -5306981471467, 1852858036299, 6054455081380, -5670573412011]\n",
      "[1926712649222, 2164508271051, -2495636645475]\n",
      "1595584274798\n"
     ]
    }
   ],
   "source": [
    "import uuid\n",
    "\n",
    "case = [x.strip() for x in open(f'day_20_input.txt', 'r')]\n",
    "#case = [1,2,-3,3,-2,0,4]\n",
    "    \n",
    "dkey = 811589153\n",
    "case = [(int(x)*dkey,0,uuid.uuid4()) for x in case]\n",
    "\n",
    "mixed = case.copy()\n",
    "\n",
    "def mix(value_to_mix, mixed):\n",
    "    \n",
    "    if value_to_mix[0] == 0:\n",
    "        return mixed\n",
    "    \n",
    "    mixed = mixed.copy()\n",
    "    index_to_mix = mixed.index(value_to_mix)\n",
    "    \n",
    "    mixed.remove(value_to_mix)\n",
    "    \n",
    "    index_to_insert = (index_to_mix + value_to_mix[0])%(len(mixed))\n",
    "    value_to_insert = (value_to_mix[0], value_to_mix[1]+1, value_to_mix[2])    \n",
    "\n",
    "    mixed.insert(index_to_insert, value_to_insert)\n",
    "        \n",
    "    return mixed\n",
    "\n",
    "print(0, [x[0] for x in mixed[:10]])\n",
    "\n",
    "for m in range(10):\n",
    "    for i in range(len(case)):\n",
    "        mixed = mix((case[i][0],m,case[i][2]), mixed)\n",
    "    print(\"------\")\n",
    "    print(m+1, [x[0] for x in mixed[:10]])\n",
    "\n",
    "index_0 = [x[0] for x in mixed].index(0)\n",
    "print(list(mixed[(index_0+x)%len(mixed)][0] for x in [1000,2000,3000]))\n",
    "print(sum(mixed[(index_0+x)%len(mixed)][0] for x in [1000,2000,3000]))\n"
   ]
  }
 ],
 "metadata": {
  "kernelspec": {
   "display_name": "Python 3 (ipykernel)",
   "language": "python",
   "name": "python3"
  },
  "language_info": {
   "codemirror_mode": {
    "name": "ipython",
    "version": 3
   },
   "file_extension": ".py",
   "mimetype": "text/x-python",
   "name": "python",
   "nbconvert_exporter": "python",
   "pygments_lexer": "ipython3",
   "version": "3.10.6"
  }
 },
 "nbformat": 4,
 "nbformat_minor": 5
}
