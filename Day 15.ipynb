{
 "cells": [
  {
   "cell_type": "code",
   "execution_count": 1,
   "id": "3b28f4a6-a785-4a41-a38a-f3fe9f3cf248",
   "metadata": {},
   "outputs": [],
   "source": [
    "import requests\n",
    "year = 2022\n",
    "day = 15\n",
    "\n",
    "url = f\"https://adventofcode.com/{year}/day/{day}/input\"\n",
    "\n",
    "with open('cookie.txt', 'r') as file:\n",
    "    session = file.read()\n",
    "\n",
    "headers = {'cookie': f\"session={session}\"}\n",
    "\n",
    "with open(f'day_{day}_input.txt', 'wb') as file:\n",
    "    file.write(requests.get(url, headers=headers).content)"
   ]
  },
  {
   "cell_type": "code",
   "execution_count": 2,
   "id": "22a87c30-6e71-4399-8b6a-51cc9f82deac",
   "metadata": {},
   "outputs": [
    {
     "name": "stdout",
     "output_type": "stream",
     "text": [
      "Sensor at x=2, y=18: closest beacon is at x=-2, y=15\n",
      "Sensor at x=9, y=16: closest beacon is at x=10, y=16\n",
      "Sensor at x=13, y=2: closest beacon is at x=15, y=3\n",
      "Sensor at x=12, y=14: closest beacon is at x=10, y=16\n",
      "Sensor at x=10, y=20: closest beacon is at x=10, y=16\n",
      "Sensor at x=14, y=17: closest beacon is at x=10, y=16\n",
      "Sensor at x=8, y=7: closest beacon is at x=2, y=10\n",
      "Sensor at x=2, y=0: closest beacon is at x=2, y=10\n",
      "Sensor at x=0, y=11: closest beacon is at x=2, y=10\n",
      "Sensor at x=20, y=14: closest beacon is at x=25, y=17\n",
      "---\n",
      "---\n",
      "Sensor at x=2983166, y=2813277: closest beacon is at x=3152133, y=2932891\n",
      "Sensor at x=2507490, y=122751: closest beacon is at x=1515109, y=970092\n",
      "Sensor at x=3273116, y=2510538: closest beacon is at x=3152133, y=2932891\n",
      "Sensor at x=1429671, y=995389: closest beacon is at x=1515109, y=970092\n",
      "Sensor at x=2465994, y=2260162: closest beacon is at x=2734551, y=2960647\n",
      "Sensor at x=2926899, y=3191882: closest beacon is at x=2734551, y=2960647\n",
      "Sensor at x=1022491, y=1021177: closest beacon is at x=1515109, y=970092\n",
      "Sensor at x=1353273, y=1130973: closest beacon is at x=1515109, y=970092\n",
      "Sensor at x=1565476, y=2081049: closest beacon is at x=1597979, y=2000000\n",
      "Sensor at x=1841125, y=1893566: closest beacon is at x=1597979, y=2000000\n"
     ]
    }
   ],
   "source": [
    "import os\n",
    "if os.path.exists(f\"day_{day}_test.txt\"):\n",
    "    test = [x.strip() for x in open(f'day_{day}_test.txt', 'r')]\n",
    "    for line in test[:10]:\n",
    "        print(line.strip())\n",
    "print(\"---\")\n",
    "if os.path.exists(f\"day_{day}_test_2.txt\"):\n",
    "    test_2 = [x.strip() for x in open(f'day_{day}_test_2.txt', 'r')]\n",
    "    for line in test[:10]:\n",
    "        print(line.strip())\n",
    "print(\"---\")\n",
    "lines = [x.strip() for x in open(f'day_{day}_input.txt', 'r')]\n",
    "for line in lines[:10]:\n",
    "    print(line.strip())"
   ]
  },
  {
   "cell_type": "code",
   "execution_count": 89,
   "id": "5638d8ef-82b1-41dd-9a35-c2dd4fa9ffa4",
   "metadata": {},
   "outputs": [
    {
     "name": "stdout",
     "output_type": "stream",
     "text": [
      "6078701\n"
     ]
    }
   ],
   "source": [
    "# coordinate squish\n",
    "\n",
    "import re\n",
    "\n",
    "run_test = False\n",
    "\n",
    "if run_test:\n",
    "    case = test\n",
    "else:\n",
    "    case = lines\n",
    "\n",
    "S = dict()\n",
    "\n",
    "for line in case:\n",
    "    pattern = r\"Sensor at x=(-?\\d+), y=(-?\\d+): closest beacon is at x=(-?\\d+), y=(-?\\d+)\"\n",
    "    groups = re.findall(pattern,line)\n",
    "    Sx,Sy,Bx,By = [int(x) for x in groups[0]]    \n",
    "    \n",
    "    S[(Sx,Sy)] = (Bx,By)\n",
    "\n",
    "if run_test:\n",
    "    y = 10\n",
    "else:\n",
    "    y = 2000000\n",
    "R = []\n",
    "\n",
    "for s,b in S.items():\n",
    "\n",
    "    y_dist = abs(s[1]-b[1])\n",
    "    x_dist = abs(s[0]-b[0])\n",
    "    dist = x_dist + y_dist\n",
    "    dist_to_y = abs(s[1] - y)\n",
    "    \n",
    "    if dist_to_y >= dist:\n",
    "        continue\n",
    "    \n",
    "    nb = (s[0] - (dist - dist_to_y),s[0] + (dist - dist_to_y))\n",
    "    R.append(nb)\n",
    "\n",
    "max_nb = max([r[1] for r in R])\n",
    "min_nb = min([r[0] for r in R])\n",
    "b_in_y = len([b for b in set(S.values()) if b[1] == y])\n",
    "nb = max_nb + 1 - min_nb - b_in_y\n",
    "print(nb)\n",
    "\n",
    "# 3897906 too low\n",
    "# 5145809 too low"
   ]
  },
  {
   "cell_type": "code",
   "execution_count": 98,
   "id": "8d4f9cdc-8096-466b-a3b6-99492443724b",
   "metadata": {},
   "outputs": [
    {
     "name": "stdout",
     "output_type": "stream",
     "text": [
      "{(2, 18): (-2, 15), (9, 16): (10, 16), (13, 2): (15, 3), (12, 14): (10, 16), (10, 20): (10, 16), (14, 17): (10, 16), (8, 7): (2, 10), (2, 0): (2, 10), (0, 11): (2, 10), (20, 14): (25, 17), (17, 20): (21, 22), (16, 7): (15, 3), (14, 3): (15, 3), (20, 1): (15, 3)}\n",
      "[((-5, 9), (11, 25)), ((8, 10), (15, 17)), ((10, 16), (-1, 5)), ((8, 16), (10, 18)), ((6, 14), (16, 24)), ((9, 19), (12, 22)), ((-1, 17), (-2, 16)), ((-8, 12), (-10, 10)), ((-3, 3), (8, 14)), ((12, 28), (6, 22)), ((11, 23), (14, 26)), ((11, 21), (2, 12)), ((13, 15), (2, 4)), ((13, 27), (-6, 8))]\n"
     ]
    }
   ],
   "source": [
    "## Part 2\n",
    "\n",
    "\n",
    "# coordinate squish\n",
    "\n",
    "import re\n",
    "\n",
    "run_test = True\n",
    "\n",
    "if run_test:\n",
    "    case = test\n",
    "else:\n",
    "    case = lines\n",
    "\n",
    "S = dict()\n",
    "\n",
    "for line in case:\n",
    "    pattern = r\"Sensor at x=(-?\\d+), y=(-?\\d+): closest beacon is at x=(-?\\d+), y=(-?\\d+)\"\n",
    "    groups = re.findall(pattern,line)\n",
    "    Sx,Sy,Bx,By = [int(x) for x in groups[0]]    \n",
    "    \n",
    "    S[(Sx,Sy)] = (Bx,By)\n",
    "\n",
    "if run_test:\n",
    "    max_poss = 20\n",
    "else:\n",
    "    max_poss = 4000000\n",
    "R = []\n",
    "\n",
    "print(S)\n",
    "\n",
    "for s,b in S.items():\n",
    "\n",
    "    y_dist = abs(s[1]-b[1])\n",
    "    x_dist = abs(s[0]-b[0])\n",
    "    dist = x_dist + y_dist\n",
    "\n",
    "    xsquare = (s[0] - dist, s[0] + dist)\n",
    "    ysquare = (s[1] - dist, s[1] + dist)\n",
    "    R.append((xsquare,ysquare))\n",
    "\n",
    "\n",
    "# todo, start with big square, subtract all smaller squares. what's left?\n",
    "\n",
    "print(R)"
   ]
  }
 ],
 "metadata": {
  "kernelspec": {
   "display_name": "Python 3 (ipykernel)",
   "language": "python",
   "name": "python3"
  },
  "language_info": {
   "codemirror_mode": {
    "name": "ipython",
    "version": 3
   },
   "file_extension": ".py",
   "mimetype": "text/x-python",
   "name": "python",
   "nbconvert_exporter": "python",
   "pygments_lexer": "ipython3",
   "version": "3.10.6"
  }
 },
 "nbformat": 4,
 "nbformat_minor": 5
}
