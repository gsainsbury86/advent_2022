{
 "cells": [
  {
   "cell_type": "code",
   "execution_count": 3,
   "id": "ae67199e-54e5-4695-aa59-098424533cfb",
   "metadata": {},
   "outputs": [],
   "source": [
    "import requests\n",
    "year = 2022\n",
    "day = 4\n",
    "url = f\"https://adventofcode.com/{year}/day/{day}/input\"\n",
    "\n",
    "with open('cookie.txt', 'r') as file:\n",
    "    session = file.read()\n",
    "\n",
    "headers = {'cookie': f\"session={session}\"}\n",
    "\n",
    "with open(f'day_{day}_input.txt', 'wb') as file:\n",
    "    file.write(requests.get(url, headers=headers).content)"
   ]
  },
  {
   "cell_type": "code",
   "execution_count": 4,
   "id": "05ffbd1a-37ce-4ec8-9e39-4b2112ea5203",
   "metadata": {},
   "outputs": [
    {
     "name": "stdout",
     "output_type": "stream",
     "text": [
      "['15-60,14-59', '32-80,17-79', '47-80,79-80', '64-64,12-63', '93-93,8-92']\n"
     ]
    }
   ],
   "source": [
    "lines = [x.strip() for x in open(f'day_{day}_input.txt', 'r')]\n",
    "print(lines[:5])"
   ]
  },
  {
   "cell_type": "code",
   "execution_count": 11,
   "id": "02a3655c-d6dc-4dee-a94f-5083861433b6",
   "metadata": {},
   "outputs": [
    {
     "name": "stdout",
     "output_type": "stream",
     "text": [
      "466\n"
     ]
    }
   ],
   "source": [
    "\n",
    "import re\n",
    "\n",
    "pattern = '(\\d+)-(\\d+),(\\d+)-(\\d+)'\n",
    "\n",
    "count = 0\n",
    "for line in lines:\n",
    "    s1, e1, s2, e2 = re.findall(pattern,line)[0][0:4]\n",
    "    if (int(s1) <= int(s2) and int(e1) >= int(e2)) or (int(s1) >= int(s2) and int(e1) <= int(e2)):\n",
    "        count= count + 1\n",
    "        \n",
    "print(count)"
   ]
  },
  {
   "cell_type": "code",
   "execution_count": 22,
   "id": "bf51bfc9-554b-4204-9cf8-583170a3d781",
   "metadata": {},
   "outputs": [
    {
     "name": "stdout",
     "output_type": "stream",
     "text": [
      "865\n"
     ]
    }
   ],
   "source": [
    "count = 0\n",
    "for line in lines:\n",
    "    s1, e1, s2, e2 = re.findall(pattern,line)[0][0:4]\n",
    "    a = set([i for i in range(int(s1),int(e1)+1)])\n",
    "    b = set([i for i in range(int(s2),int(e2)+1)])\n",
    "\n",
    "    if a.intersection(b) != set():\n",
    "        count = count + 1\n",
    "    \n",
    "print(count)\n",
    "\n",
    "#WRONG 640"
   ]
  }
 ],
 "metadata": {
  "kernelspec": {
   "display_name": "Python 3 (ipykernel)",
   "language": "python",
   "name": "python3"
  },
  "language_info": {
   "codemirror_mode": {
    "name": "ipython",
    "version": 3
   },
   "file_extension": ".py",
   "mimetype": "text/x-python",
   "name": "python",
   "nbconvert_exporter": "python",
   "pygments_lexer": "ipython3",
   "version": "3.10.0"
  }
 },
 "nbformat": 4,
 "nbformat_minor": 5
}
