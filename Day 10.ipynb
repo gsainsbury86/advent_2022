{
 "cells": [
  {
   "cell_type": "code",
   "execution_count": 4,
   "id": "3b28f4a6-a785-4a41-a38a-f3fe9f3cf248",
   "metadata": {},
   "outputs": [],
   "source": [
    "import requests\n",
    "year = 2022\n",
    "day = 10\n",
    "url = f\"https://adventofcode.com/{year}/day/{day}/input\"\n",
    "\n",
    "with open('cookie.txt', 'r') as file:\n",
    "    session = file.read()\n",
    "\n",
    "headers = {'cookie': f\"session={session}\"}\n",
    "\n",
    "with open(f'day_{day}_input.txt', 'wb') as file:\n",
    "    file.write(requests.get(url, headers=headers).content)"
   ]
  },
  {
   "cell_type": "code",
   "execution_count": 16,
   "id": "22a87c30-6e71-4399-8b6a-51cc9f82deac",
   "metadata": {},
   "outputs": [
    {
     "name": "stdout",
     "output_type": "stream",
     "text": [
      "addx 15\n",
      "addx -11\n",
      "addx 6\n",
      "addx -3\n",
      "addx 5\n",
      "addx -1\n",
      "addx -8\n",
      "addx 13\n",
      "addx 4\n",
      "noop\n",
      "---\n",
      "---\n",
      "noop\n",
      "noop\n",
      "noop\n",
      "addx 3\n",
      "addx 20\n",
      "noop\n",
      "addx -12\n",
      "noop\n",
      "addx 4\n",
      "noop\n"
     ]
    }
   ],
   "source": [
    "import os\n",
    "if os.path.exists(f\"day_{day}_test.txt\"):\n",
    "    test = [x.strip() for x in open(f'day_{day}_test.txt', 'r')]\n",
    "    for line in test[:10]:\n",
    "        print(line.strip())\n",
    "print(\"---\")\n",
    "if os.path.exists(f\"day_{day}_test_2.txt\"):\n",
    "    test_2 = [x.strip() for x in open(f'day_{day}_test_2.txt', 'r')]\n",
    "    for line in test[:10]:\n",
    "        print(line.strip())\n",
    "print(\"---\")\n",
    "lines = [x.strip() for x in open(f'day_{day}_input.txt', 'r')]\n",
    "for line in lines[:10]:\n",
    "    print(line.strip())"
   ]
  },
  {
   "cell_type": "code",
   "execution_count": 86,
   "id": "ef2b1356-b4b2-42b2-bf61-4404b1102fb2",
   "metadata": {},
   "outputs": [
    {
     "name": "stdout",
     "output_type": "stream",
     "text": [
      "15880\n"
     ]
    }
   ],
   "source": [
    "commands = []\n",
    "lag = 0\n",
    "for i, line in enumerate(lines):\n",
    "    if line.startswith('addx'):\n",
    "        add = int(line.split(' ')[1])\n",
    "        lag = lag + 1\n",
    "        commands.append({'start':lag, 'end':lag+2, 'add':add})\n",
    "    lag = lag + 1\n",
    "\n",
    "tally = 0\n",
    "for i in range(20,240,40):\n",
    "    tally = tally + i * (1 + sum([command['add'] for command in commands if command['end'] <=i]))\n",
    "print(tally)\n"
   ]
  },
  {
   "cell_type": "code",
   "execution_count": 88,
   "id": "ebb24963-f0ca-4536-9982-5f0901a9cc78",
   "metadata": {},
   "outputs": [
    {
     "name": "stdout",
     "output_type": "stream",
     "text": [
      "    start  end  add\n",
      "0       4    6    3\n",
      "1       6    8   20\n",
      "2       9   11  -12\n",
      "3      12   14    4\n",
      "4      17   19    1\n",
      "..    ...  ...  ...\n",
      "93    224  226    2\n",
      "94    226  228    5\n",
      "95    228  230    2\n",
      "96    231  233    1\n",
      "97    233  235    5\n",
      "\n",
      "[98 rows x 3 columns]\n",
      "###  #     ##  #### #  #  ##  ####  ##  \n",
      "#  # #    #  # #    # #  #  #    # #  # \n",
      "#  # #    #    ###  ##   #  #   #  #    \n",
      "###  #    # ## #    # #  ####  #   # ## \n",
      "#    #    #  # #    # #  #  # #    #  # \n",
      "#    ####  ### #    #  # #  # ####  ### \n"
     ]
    }
   ],
   "source": [
    "import pandas as pd\n",
    "df = pd.DataFrame(commands)\n",
    "print(df)\n",
    "crt = list()\n",
    "for i in range(0,240):\n",
    "#     if len(df[df['start'] == i]) > 0:\n",
    "#         print(i)\n",
    "    x = 1 + sum([command['add'] for command in commands if command['end'] <=i+1])\n",
    "    #print(i, x)\n",
    "    # Check for 3x3\n",
    "    if abs(i%40 - x) < 2:# or abs(i - x - 40) < 2:\n",
    "        crt.append('#')\n",
    "    else:\n",
    "        crt.append(' ')\n",
    "\n",
    "for i in range(0,6):\n",
    "    print(''.join(crt[i*40:(i+1)*40]))"
   ]
  }
 ],
 "metadata": {
  "kernelspec": {
   "display_name": "Python 3 (ipykernel)",
   "language": "python",
   "name": "python3"
  },
  "language_info": {
   "codemirror_mode": {
    "name": "ipython",
    "version": 3
   },
   "file_extension": ".py",
   "mimetype": "text/x-python",
   "name": "python",
   "nbconvert_exporter": "python",
   "pygments_lexer": "ipython3",
   "version": "3.8.15"
  }
 },
 "nbformat": 4,
 "nbformat_minor": 5
}
