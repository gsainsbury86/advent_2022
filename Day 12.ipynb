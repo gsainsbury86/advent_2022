{
 "cells": [
  {
   "cell_type": "code",
   "execution_count": 1,
   "id": "42a0e52e-bcb0-422b-bf68-59edb25f8234",
   "metadata": {},
   "outputs": [],
   "source": [
    "day = 12\n",
    "import os\n",
    "if os.path.exists(f\"day_{day}_test.txt\"):\n",
    "    test = [x.strip() for x in open(f'day_{day}_test.txt', 'r')]\n",
    "lines = [x.strip() for x in open(f'day_{day}_input.txt', 'r')]"
   ]
  },
  {
   "cell_type": "code",
   "execution_count": 5,
   "id": "fa8faadd-2441-44dd-a10f-b6b0d87fdbe0",
   "metadata": {},
   "outputs": [
    {
     "name": "stdout",
     "output_type": "stream",
     "text": [
      "(array([20]), array([0]))\n",
      "deque([((20, 0), 0)])\n",
      "[['a' 'b' 'c' ... 'a' 'a' 'a']\n",
      " ['a' 'b' 'a' ... 'a' 'a' 'a']\n",
      " ['a' 'b' 'a' ... 'a' 'a' 'a']\n",
      " ...\n",
      " ['a' 'b' 'c' ... 'a' 'a' 'a']\n",
      " ['a' 'b' 'c' ... 'a' 'a' 'a']\n",
      " ['a' 'b' 'c' ... 'a' 'a' 'a']]\n",
      "41 161\n",
      "440\n",
      "[[ 22.  23.  24. ... 186. 187. 186.]\n",
      " [ 21.  22.  23. ... 185. 186. 187.]\n",
      " [ 20.  21.  22. ... 186. 187. 188.]\n",
      " ...\n",
      " [ 20.  21.  22. ... 198. 201. 200.]\n",
      " [ 21.  22.  23. ... 197. 198. 199.]\n",
      " [ 22.  23.  24. ... 196. 197. 198.]]\n"
     ]
    },
    {
     "data": {
      "image/png": "[encoded data removed]",
      "text/plain": [
       "<Figure size 640x480 with 1 Axes>"
      ]
     },
     "metadata": {},
     "output_type": "display_data"
    },
    {
     "name": "stdout",
     "output_type": "stream",
     "text": [
      "y\n"
     ]
    }
   ],
   "source": [
    "import numpy as np\n",
    "import math\n",
    "from collections import deque\n",
    "import matplotlib.pyplot as plt\n",
    "\n",
    "case = lines\n",
    "\n",
    "ROWS = len(case)\n",
    "COLS = len(case[0])\n",
    "\n",
    "map_ = np.zeros(dtype='str',shape=(ROWS,COLS))\n",
    "\n",
    "for i in range(ROWS):\n",
    "    for j in range(COLS):\n",
    "        map_[i][j] = case[i][j]\n",
    "\n",
    "best_to_here = np.zeros(shape=map_.shape) + 500#$ map_.shape[0]*map_.shape[1]\n",
    "\n",
    "def within_one(row,col,this):\n",
    "    if this == 'S':\n",
    "        return True\n",
    "    if this =='z' and map_[row][col] == 'E':\n",
    "        return True\n",
    "    return ord(map_[row][col]) <= ord(this) + 1\n",
    "\n",
    "itemindex = np.where(map_ == 'S')\n",
    "print(itemindex)\n",
    "row_S = itemindex[0][0]\n",
    "col_S = itemindex[1][0]\n",
    "\n",
    "search_next = deque()\n",
    "search_next.append(((row_S,col_S),0))\n",
    "path = set()\n",
    "\n",
    "print(search_next)\n",
    "\n",
    "max_found = 'a'\n",
    "\n",
    "print(map_)\n",
    "print(ROWS,COLS)\n",
    "while search_next:\n",
    "    search = search_next.popleft()\n",
    "    row = search[0][0]\n",
    "    col = search[0][1]\n",
    "    dist = search[1]\n",
    "    this = map_[row][col]\n",
    "    best_to_here[row][col] = dist\n",
    "    max_found = this if ord(this) > ord(max_found) else max_found\n",
    "    if (row,col) in path:\n",
    "        continue\n",
    "    path.add((row,col))\n",
    "    if this == 'E':\n",
    "        print(dist)\n",
    "        break\n",
    "    for d in [(1,0),(0,1),(0,-1),(-1,0)]:\n",
    "        row_n = row+d[0]\n",
    "        col_n = col+d[1]\n",
    "        if 0 <= row_n < ROWS and 0 <= col_n < COLS:\n",
    "            if within_one(row_n,col_n, this):\n",
    "                search_next.append(((row_n,col_n),dist+1))\n",
    "\n",
    "print(best_to_here)\n",
    "plt.imshow(best_to_here)\n",
    "plt.show()\n",
    "print(max_found)"
   ]
  },
  {
   "cell_type": "code",
   "execution_count": null,
   "id": "e334545c-c7e6-4143-bfd0-8d0c8dbdb02b",
   "metadata": {},
   "outputs": [],
   "source": [
    "# Part 2"
   ]
  },
  {
   "cell_type": "code",
   "execution_count": 41,
   "id": "2c4d0259-7878-4356-bd95-f981690f0d6b",
   "metadata": {},
   "outputs": [
    {
     "name": "stdout",
     "output_type": "stream",
     "text": [
      "(array([ 0,  0,  0, ..., 40, 40, 40]), array([  0,   8,   9, ..., 158, 159, 160]))\n"
     ]
    },
    {
     "name": "stderr",
     "output_type": "stream",
     "text": [
      "100%|███████████████████████████████████████████████████████████████████████████████████████████████████████████████████████████████████████████████████████████████████████████████████████████████| 1841/1841 [00:05<00:00, 330.73it/s]"
     ]
    },
    {
     "name": "stdout",
     "output_type": "stream",
     "text": [
      "439\n"
     ]
    },
    {
     "name": "stderr",
     "output_type": "stream",
     "text": [
      "\n"
     ]
    }
   ],
   "source": [
    "import numpy as np\n",
    "import math\n",
    "from collections import deque\n",
    "import matplotlib.pyplot as plt\n",
    "\n",
    "case = lines\n",
    "\n",
    "ROWS = len(case)\n",
    "COLS = len(case[0])\n",
    "\n",
    "map_ = np.zeros(dtype='str',shape=(ROWS,COLS))\n",
    "\n",
    "for i in range(ROWS):\n",
    "    for j in range(COLS):\n",
    "        map_[i][j] = case[i][j]\n",
    "\n",
    "best_to_here = np.zeros(shape=map_.shape) + map_.shape[0]*map_.shape[1]\n",
    "\n",
    "def within_one(row,col,this):\n",
    "    if this == 'S':\n",
    "        return True\n",
    "    if this =='z' and map_[row][col] == 'E':\n",
    "        return True\n",
    "    return ord(map_[row][col]) <= ord(this) + 1\n",
    "\n",
    "itemindex = np.where(map_ == 'a')\n",
    "print(itemindex)\n",
    "\n",
    "BEST = map_.shape[0]*map_.shape[1]\n",
    "\n",
    "from tqdm import tqdm\n",
    "for item in tqdm(range(len(itemindex[0]))):\n",
    "    row_S = itemindex[0][item]\n",
    "    col_S = itemindex[1][item]\n",
    "\n",
    "    search_next = deque()\n",
    "    search_next.append(((row_S,col_S),0))\n",
    "    path = set()\n",
    "\n",
    "    max_found = 'a'\n",
    "\n",
    "    while search_next:\n",
    "        search = search_next.popleft()\n",
    "        row = search[0][0]\n",
    "        col = search[0][1]\n",
    "        dist = search[1]\n",
    "        this = map_[row][col]\n",
    "        best_to_here[row][col] = dist\n",
    "        max_found = this if ord(this) > ord(max_found) else max_found\n",
    "        if (row,col) in path:\n",
    "            continue\n",
    "        path.add((row,col))\n",
    "        if this == 'E':\n",
    "            if dist < BEST:\n",
    "                BEST = dist\n",
    "            break\n",
    "        for d in [(1,0),(0,1),(0,-1),(-1,0)]:\n",
    "            row_n = row+d[0]\n",
    "            col_n = col+d[1]\n",
    "            if 0 <= row_n < ROWS and 0 <= col_n < COLS:\n",
    "                if within_one(row_n,col_n, this):\n",
    "                    search_next.append(((row_n,col_n),dist+1))\n",
    "\n",
    "    # print(best_to_here)\n",
    "    # plt.imshow(best_to_here)\n",
    "    # plt.show()\n",
    "    # print(max_found)\n",
    "print(BEST)"
   ]
  }
 ],
 "metadata": {
  "kernelspec": {
   "display_name": "Python 3 (ipykernel)",
   "language": "python",
   "name": "python3"
  },
  "language_info": {
   "codemirror_mode": {
    "name": "ipython",
    "version": 3
   },
   "file_extension": ".py",
   "mimetype": "text/x-python",
   "name": "python",
   "nbconvert_exporter": "python",
   "pygments_lexer": "ipython3",
   "version": "3.10.6"
  }
 },
 "nbformat": 4,
 "nbformat_minor": 5
}
