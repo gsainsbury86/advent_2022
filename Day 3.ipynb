{
 "cells": [
  {
   "cell_type": "code",
   "execution_count": 7,
   "id": "81411ce0-b47b-466a-ae0e-a8f504679b68",
   "metadata": {},
   "outputs": [],
   "source": [
    "import requests\n",
    "year = 2022\n",
    "day = 3\n",
    "url = f\"https://adventofcode.com/{year}/day/{day}/input\"\n",
    "\n",
    "with open('cookie.txt', 'r') as file:\n",
    "    session = file.read()\n",
    "\n",
    "headers = {'cookie': f\"session={session}\"}\n",
    "\n",
    "with open(f'day_{day}_input.txt', 'wb') as file:\n",
    "    file.write(requests.get(url, headers=headers).content)"
   ]
  },
  {
   "cell_type": "code",
   "execution_count": 47,
   "id": "98367a39-5197-46c6-93df-e4a9c445ad32",
   "metadata": {},
   "outputs": [
    {
     "name": "stdout",
     "output_type": "stream",
     "text": [
      "['DPstqDdrsqdDtqrFDJDDrmtsJHflSJCLgCphgHHgRHJCRRff', 'BcBGcQzVBVZcvznTTTvZcGTpCRRRfRCggLflHlhhCZpZCj', 'vGQnQvnzTzNTTbVnzGBqMqwqDLdPtMmbwqqLLM', 'wLRFRqvFsFRjfrHddbdbjzdH', 'lcsnSJPSSVVlGmGrHzbbrGNrdzbz']\n"
     ]
    }
   ],
   "source": [
    "lines = [x.strip() for x in open(f'day_{day}_input.txt', 'r')]\n",
    "print(lines[:5])"
   ]
  },
  {
   "cell_type": "code",
   "execution_count": 48,
   "id": "de58e0b8-4d87-4fa3-bcab-4aeda1f5ef53",
   "metadata": {},
   "outputs": [
    {
     "data": {
      "text/plain": [
       "7817"
      ]
     },
     "execution_count": 48,
     "metadata": {},
     "output_type": "execute_result"
    }
   ],
   "source": [
    "scores = dict(zip(map(chr,range(ord('a'),ord('z')+1)),range(1,27)))\n",
    "scores.update( dict(zip(map(chr,range(ord('A'),ord('Z')+1)),range(1+26,27+26))))\n",
    "\n",
    "dupes = list()\n",
    "for line in lines:\n",
    "    front = set(line[:len(line)//2])\n",
    "    back = set(line[len(line)//2:])\n",
    "    dupes.append(front.intersection(back).pop())\n",
    "    \n",
    "sum([scores[d] for d in dupes])\n",
    "\n"
   ]
  },
  {
   "cell_type": "code",
   "execution_count": 49,
   "id": "50a87878-6366-4182-b59d-02ea924bb5a3",
   "metadata": {},
   "outputs": [
    {
     "data": {
      "text/plain": [
       "2444"
      ]
     },
     "execution_count": 49,
     "metadata": {},
     "output_type": "execute_result"
    }
   ],
   "source": [
    "\n",
    "dupes = list()\n",
    "for str_group in [lines[3*x:3*x+3] for x in range(0,len(lines)//3)]:\n",
    "    group = [set(g) for g in str_group]\n",
    "    isect = group[0].intersection(group[1]).intersection(group[2])\n",
    "    dupes.append(isect.pop())    \n",
    "\n",
    "sum([scores[d] for d in dupes])\n"
   ]
  }
 ],
 "metadata": {
  "kernelspec": {
   "display_name": "Python 3 (ipykernel)",
   "language": "python",
   "name": "python3"
  },
  "language_info": {
   "codemirror_mode": {
    "name": "ipython",
    "version": 3
   },
   "file_extension": ".py",
   "mimetype": "text/x-python",
   "name": "python",
   "nbconvert_exporter": "python",
   "pygments_lexer": "ipython3",
   "version": "3.10.0"
  }
 },
 "nbformat": 4,
 "nbformat_minor": 5
}
