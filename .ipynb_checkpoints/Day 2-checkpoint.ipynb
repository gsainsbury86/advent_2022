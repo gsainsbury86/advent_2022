{
 "cells": [
  {
   "cell_type": "code",
   "execution_count": 1,
   "id": "bd1e1c95-4549-4759-9636-caaf019e20c0",
   "metadata": {},
   "outputs": [
    {
     "name": "stdout",
     "output_type": "stream",
     "text": [
      "['B Z', 'A X', 'B Z', 'B Z', 'C Z']\n"
     ]
    }
   ],
   "source": [
    "import requests\n",
    "year = 2022\n",
    "day = 2\n",
    "url = f\"https://adventofcode.com/{year}/day/{day}/input\"\n",
    "\n",
    "with open('cookie.txt', 'r') as file:\n",
    "    session = file.read()\n",
    "\n",
    "headers = {'cookie': f\"session={session}\"}\n",
    "\n",
    "with open(f'day_{day}_input.txt', 'wb') as file:\n",
    "    file.write(requests.get(url, headers=headers).content)"
   ]
  },
  {
   "cell_type": "code",
   "execution_count": 23,
   "id": "8acfb0a6-153f-41a6-afa0-eee48e96552e",
   "metadata": {},
   "outputs": [
    {
     "name": "stdout",
     "output_type": "stream",
     "text": [
      "['B Z', 'A X', 'B Z', 'B Z', 'C Z']\n"
     ]
    }
   ],
   "source": [
    "lines = [x.strip() for x in open(f'day_{day}_input.txt', 'r')]\n",
    "print(lines[:5])"
   ]
  },
  {
   "cell_type": "code",
   "execution_count": 29,
   "id": "d33d38ca-6536-4238-9239-21d7ebf6e848",
   "metadata": {},
   "outputs": [
    {
     "name": "stdout",
     "output_type": "stream",
     "text": [
      "11449\n"
     ]
    }
   ],
   "source": [
    "# A for Rock, B for Paper, and C for Scissors \n",
    "# X for Rock, Y for Paper, and Z for Scissors\n",
    "#(1 for Rock, 2 for Paper, and 3 for Scissors) \n",
    "# plus the score for the outcome of the round (0 if you lost, 3 if the round was a draw, and 6 if you won).\n",
    "shapes = dict(zip(['A','B','C'],[1,2,3]))\n",
    "translated = dict(zip(['X','Y','Z'],['A','B','C']))\n",
    "\n",
    "scores = list()\n",
    "for round in lines:\n",
    "    opp = round[0]\n",
    "    you = translated[round[2]]\n",
    "    if you == opp:\n",
    "        scores.append(3 + shapes[you])\n",
    "    elif (you == 'A' and opp == 'C') or (you == 'B' and opp == 'A') or (you == 'C' and opp == 'B'):\n",
    "        scores.append(6 + shapes[you])\n",
    "    else:\n",
    "        scores.append(0 + shapes[you])\n",
    "        \n",
    "#print(scores)\n",
    "print(sum(scores))\n",
    "        \n",
    "# WRONG 12493\n",
    "# WRONG 15913\n",
    "# WRONG 13309"
   ]
  },
  {
   "cell_type": "code",
   "execution_count": 31,
   "id": "f9f4a7c1-cfd7-4a8b-94dd-5728312fb678",
   "metadata": {},
   "outputs": [
    {
     "name": "stdout",
     "output_type": "stream",
     "text": [
      "{'A X': 4, 'B X': 1, 'C X': 7, 'A Y': 8, 'B Y': 5, 'C Y': 2, 'A Z': 3, 'B Z': 9, 'C Z': 6}\n",
      "11449\n"
     ]
    }
   ],
   "source": [
    "outcomes = dict(zip(('A X','B X', 'C X','A Y', 'B Y', 'C Y', 'A Z', 'B Z', 'C Z'),\n",
    "                [sum(x) for x in zip((3,0,6,6,3,0,0,6,3), (1,1,1,2,2,2,3,3,3))]))\n",
    "print(outcomes)\n",
    "\n",
    "scores = list()\n",
    "for round in lines:\n",
    "    scores.append(outcomes[round])\n",
    "print(sum(scores))"
   ]
  },
  {
   "cell_type": "markdown",
   "id": "bd9dfa6f-3ef0-47c3-88d6-65918713d244",
   "metadata": {},
   "source": [
    "# Part 2"
   ]
  },
  {
   "cell_type": "code",
   "execution_count": 33,
   "id": "375a174f-0346-4c41-ad09-3a3798a059b3",
   "metadata": {},
   "outputs": [
    {
     "name": "stdout",
     "output_type": "stream",
     "text": [
      "{'A X': 3, 'B X': 1, 'C X': 2, 'A Y': 4, 'B Y': 5, 'C Y': 6, 'A Z': 8, 'B Z': 9, 'C Z': 7}\n",
      "13187\n"
     ]
    }
   ],
   "source": [
    "outcomes = dict(zip(('A X','B X', 'C X','A Y', 'B Y', 'C Y', 'A Z', 'B Z', 'C Z'),\n",
    "                   [sum(x) for x in zip((0,0,0,3,3,3,6,6,6),(3,1,2,1,2,3,2,3,1))]))\n",
    "print(outcomes)\n",
    "scores = list()\n",
    "for round in lines:\n",
    "    scores.append(outcomes[round])\n",
    "print(sum(scores))"
   ]
  },
  {
   "cell_type": "markdown",
   "id": "104862af-cd06-4df5-ae14-5f0565300e9f",
   "metadata": {},
   "source": [
    "# Further Exploration"
   ]
  },
  {
   "cell_type": "code",
   "execution_count": 57,
   "id": "38439f90-6359-41e3-8ed5-3efafc88d63a",
   "metadata": {},
   "outputs": [
    {
     "name": "stdout",
     "output_type": "stream",
     "text": [
      "11449\n"
     ]
    }
   ],
   "source": [
    "# A for Rock, B for Paper, and C for Scissors \n",
    "# X for Rock, Y for Paper, and Z for Scissors\n",
    "#(1 for Rock, 2 for Paper, and 3 for Scissors) \n",
    "# plus the score for the outcome of the round (0 if you lost, 3 if the round was a draw, and 6 if you won).\n",
    "\n",
    "opts = ['A','B','C']\n",
    "\n",
    "shapes = dict(zip(opts,[1,2,3]))\n",
    "translated = dict(zip(['X','Y','Z'],opts))\n",
    "\n",
    "scores = list()\n",
    "for round in lines:\n",
    "    opp = round[0]\n",
    "    you = translated[round[2]]\n",
    "    scores.append(shapes[you] + [3,0,6][(opts.index(opp) - opts.index(you))%3])\n",
    "print(sum(scores))\n"
   ]
  },
  {
   "cell_type": "code",
   "execution_count": null,
   "id": "b436fe26-2d60-47ca-aba2-1d2c4e9fdb73",
   "metadata": {},
   "outputs": [],
   "source": []
  },
  {
   "cell_type": "code",
   "execution_count": null,
   "id": "f68e5e69-44b3-4eac-a7ea-e11d706f31d4",
   "metadata": {},
   "outputs": [],
   "source": []
  },
  {
   "cell_type": "code",
   "execution_count": null,
   "id": "60168e02-26c1-4a0f-98d4-031fb01a6632",
   "metadata": {},
   "outputs": [],
   "source": []
  },
  {
   "cell_type": "code",
   "execution_count": null,
   "id": "3867b56f-33f5-4661-a244-692b81943776",
   "metadata": {},
   "outputs": [],
   "source": []
  },
  {
   "cell_type": "code",
   "execution_count": null,
   "id": "39fb7e59-1697-4400-9980-b4c4ec87120c",
   "metadata": {},
   "outputs": [],
   "source": []
  },
  {
   "cell_type": "code",
   "execution_count": null,
   "id": "890c2edd-93af-4762-9cfb-673e2bde6326",
   "metadata": {},
   "outputs": [],
   "source": []
  }
 ],
 "metadata": {
  "kernelspec": {
   "display_name": "Python 3 (ipykernel)",
   "language": "python",
   "name": "python3"
  },
  "language_info": {
   "codemirror_mode": {
    "name": "ipython",
    "version": 3
   },
   "file_extension": ".py",
   "mimetype": "text/x-python",
   "name": "python",
   "nbconvert_exporter": "python",
   "pygments_lexer": "ipython3",
   "version": "3.10.6"
  }
 },
 "nbformat": 4,
 "nbformat_minor": 5
}
