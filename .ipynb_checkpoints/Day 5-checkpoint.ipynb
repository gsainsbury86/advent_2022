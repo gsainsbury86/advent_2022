{
 "cells": [
  {
   "cell_type": "code",
   "execution_count": 2,
   "id": "6e060285-01fd-40ba-8394-62989c626c14",
   "metadata": {},
   "outputs": [],
   "source": [
    "import requests\n",
    "year = 2022\n",
    "day = 5\n",
    "url = f\"https://adventofcode.com/{year}/day/{day}/input\"\n",
    "\n",
    "with open('cookie.txt', 'r') as file:\n",
    "    session = file.read()\n",
    "\n",
    "headers = {'cookie': f\"session={session}\"}\n",
    "\n",
    "with open(f'day_{day}_input.txt', 'wb') as file:\n",
    "    file.write(requests.get(url, headers=headers).content)"
   ]
  },
  {
   "cell_type": "code",
   "execution_count": 120,
   "id": "4a437f02-edae-423b-b5f6-14bd471bdacb",
   "metadata": {},
   "outputs": [
    {
     "name": "stdout",
     "output_type": "stream",
     "text": [
      "                [M]     [V]     [L]\n",
      "\n",
      "[G]             [V] [C] [G]     [D]\n",
      "\n",
      "[J]             [Q] [W] [Z] [C] [J]\n",
      "\n",
      "[W]         [W] [G] [V] [D] [G] [C]\n",
      "\n",
      "[R]     [G] [N] [B] [D] [C] [M] [W]\n",
      "\n",
      "[F] [M] [H] [C] [S] [T] [N] [N] [N]\n",
      "\n",
      "[T] [W] [N] [R] [F] [R] [B] [J] [P]\n",
      "\n",
      "[Z] [G] [J] [J] [W] [S] [H] [S] [G]\n",
      "\n"
     ]
    }
   ],
   "source": [
    "lines = [x for x in open(f'day_{day}_input.txt', 'r')]\n",
    "for line in lines[:8]:\n",
    "    print(line)"
   ]
  },
  {
   "cell_type": "code",
   "execution_count": 121,
   "id": "3dabe2f8-eeb8-40cb-9b13-6ac51a63ea3d",
   "metadata": {},
   "outputs": [
    {
     "name": "stdout",
     "output_type": "stream",
     "text": [
      "        M   V   L\n",
      "\n",
      "G       V C G   D\n",
      "\n",
      "J       Q W Z C J\n",
      "\n",
      "W     W G V D G C\n",
      "\n",
      "R   G N B D C M W\n",
      "\n",
      "F M H C S T N N N\n",
      "\n",
      "T W N R F R B J P\n",
      "\n",
      "Z G J J W S H S G\n",
      "\n",
      "{'5': ['M', 'V', 'Q', 'G', 'B', 'S', 'F', 'W'], '7': ['V', 'G', 'Z', 'D', 'C', 'N', 'B', 'H'], '9': ['L', 'D', 'J', 'C', 'W', 'N', 'P', 'G'], '1': ['G', 'J', 'W', 'R', 'F', 'T', 'Z'], '6': ['C', 'W', 'V', 'D', 'T', 'R', 'S'], '8': ['C', 'G', 'M', 'N', 'J', 'S'], '4': ['W', 'N', 'C', 'R', 'J'], '3': ['G', 'H', 'N', 'J'], '2': ['M', 'W', 'G']}\n"
     ]
    }
   ],
   "source": [
    "import copy\n",
    "\n",
    "stacks = {}\n",
    "for line in lines[:8]:\n",
    "    line = line.replace('  ','[ ]').replace('[','').replace(']','')\n",
    "    print(line)\n",
    "    for i, crate in enumerate(line[::2]):\n",
    "        if crate == ' ':\n",
    "            continue\n",
    "        if str(i+1) in stacks.keys():\n",
    "            stacks[str(i+1)].append(crate)\n",
    "        else:\n",
    "            stacks[str(i+1)] = [crate]\n",
    "print(stacks)\n",
    "start_stacks = copy.deepcopy(stacks)"
   ]
  },
  {
   "cell_type": "code",
   "execution_count": 124,
   "id": "a96968eb-07ca-4c96-ba51-50cd0416b8fa",
   "metadata": {},
   "outputs": [
    {
     "name": "stdout",
     "output_type": "stream",
     "text": [
      "{'5': ['G'], '7': ['B'], '9': ['W', 'J'], '1': ['C', 'G', 'H', 'R', 'V', 'D', 'J', 'T', 'D', 'B'], '6': ['H'], '8': ['D', 'G', 'S', 'N', 'W'], '4': ['T', 'G', 'C', 'W', 'J', 'R', 'N', 'G', 'F', 'N', 'L', 'R', 'C', 'J', 'C', 'G', 'V', 'N', 'W', 'Z', 'G', 'F', 'J', 'Q', 'Z', 'V', 'P'], '3': ['M', 'C', 'S', 'M'], '2': ['W', 'W', 'N', 'M', 'S']}\n"
     ]
    }
   ],
   "source": [
    "stacks = copy.deepcopy(start_stacks)\n",
    "import re\n",
    "\n",
    "for line in lines[10:]:\n",
    "    pattern = \".*move (\\d+) from (\\d+) to (\\d+).*\"\n",
    "    num, mfrom, mto = re.findall(pattern,line)[0][0:3]\n",
    "    for n in range(0, int(num)):\n",
    "        crate = stacks[mfrom].pop(0)\n",
    "        stacks[mto].insert(0,crate)\n",
    "\n",
    "print(stacks)"
   ]
  },
  {
   "cell_type": "code",
   "execution_count": 125,
   "id": "c80d501e-67a7-451e-bb80-904448c62a8a",
   "metadata": {},
   "outputs": [
    {
     "name": "stdout",
     "output_type": "stream",
     "text": [
      "CWMTGHBDW\n"
     ]
    }
   ],
   "source": [
    "print(\"\".join([stacks[str(int(i+1))][0] for i in range(0,9)]))\n",
    "\n",
    "#WRONG BSCGGGHFJ\n",
    "#WRONG BSMPGHBWJ"
   ]
  },
  {
   "cell_type": "code",
   "execution_count": 135,
   "id": "50057a55-c5b2-403f-812a-a067f2ab955e",
   "metadata": {},
   "outputs": [
    {
     "name": "stdout",
     "output_type": "stream",
     "text": [
      "{'5': ['W'], '7': ['C'], '9': ['B', 'J'], '1': ['S', 'T', 'V', 'B', 'N', 'V', 'G', 'M', 'N', 'G'], '6': ['J'], '8': ['R', 'N', 'M', 'W', 'H'], '4': ['G', 'F', 'M', 'L', 'J', 'J', 'G', 'Z', 'D', 'G', 'P', 'S', 'F', 'C', 'T', 'W', 'W', 'C', 'W', 'C', 'D', 'D', 'G', 'G', 'N', 'H', 'J'], '3': ['C', 'Z', 'Q', 'R'], '2': ['S', 'R', 'N', 'W', 'V']}\n",
      "SSCGWJCRB\n"
     ]
    }
   ],
   "source": [
    "stacks = copy.deepcopy(start_stacks)\n",
    "import re\n",
    "\n",
    "for line in lines[10:]:\n",
    "    pattern = \".*move (\\d+) from (\\d+) to (\\d+).*\"\n",
    "    num, mfrom, mto = re.findall(pattern,line)[0][0:3]\n",
    "#    print(stacks)\n",
    "#    print(num,mfrom,mto)\n",
    "    popped = stacks[mfrom][int(num):]\n",
    "    stacks[mto] = stacks[mfrom][:int(num)] + stacks[mto]\n",
    "    stacks[mfrom] = popped\n",
    "#    print(stacks)\n",
    "\n",
    "print(stacks)\n",
    "print(\"\".join([stacks[str(int(i+1))][0] for i in range(0,9)]))\n",
    "\n",
    "\n",
    "#WRONG GMGWVCVCL"
   ]
  }
 ],
 "metadata": {
  "kernelspec": {
   "display_name": "Python 3 (ipykernel)",
   "language": "python",
   "name": "python3"
  },
  "language_info": {
   "codemirror_mode": {
    "name": "ipython",
    "version": 3
   },
   "file_extension": ".py",
   "mimetype": "text/x-python",
   "name": "python",
   "nbconvert_exporter": "python",
   "pygments_lexer": "ipython3",
   "version": "3.10.6"
  }
 },
 "nbformat": 4,
 "nbformat_minor": 5
}
