{
 "cells": [
  {
   "cell_type": "code",
   "execution_count": 1,
   "id": "3b28f4a6-a785-4a41-a38a-f3fe9f3cf248",
   "metadata": {},
   "outputs": [],
   "source": [
    "import requests\n",
    "year = 2022\n",
    "day = 11\n",
    "url = f\"https://adventofcode.com/{year}/day/{day}/input\"\n",
    "\n",
    "with open('cookie.txt', 'r') as file:\n",
    "    session = file.read()\n",
    "\n",
    "headers = {'cookie': f\"session={session}\"}\n",
    "\n",
    "with open(f'day_{day}_input.txt', 'wb') as file:\n",
    "    file.write(requests.get(url, headers=headers).content)"
   ]
  },
  {
   "cell_type": "code",
   "execution_count": 3,
   "id": "22a87c30-6e71-4399-8b6a-51cc9f82deac",
   "metadata": {},
   "outputs": [
    {
     "name": "stdout",
     "output_type": "stream",
     "text": [
      "Monkey 0:\n",
      "Starting items: 79, 98\n",
      "Operation: new = old * 19\n",
      "Test: divisible by 23\n",
      "If true: throw to monkey 2\n",
      "If false: throw to monkey 3\n",
      "\n",
      "Monkey 1:\n",
      "Starting items: 54, 65, 75, 74\n",
      "Operation: new = old + 6\n",
      "---\n",
      "---\n",
      "Monkey 0:\n",
      "Starting items: 75, 63\n",
      "Operation: new = old * 3\n",
      "Test: divisible by 11\n",
      "If true: throw to monkey 7\n",
      "If false: throw to monkey 2\n",
      "\n",
      "Monkey 1:\n",
      "Starting items: 65, 79, 98, 77, 56, 54, 83, 94\n",
      "Operation: new = old + 3\n"
     ]
    }
   ],
   "source": [
    "import os\n",
    "if os.path.exists(f\"day_{day}_test.txt\"):\n",
    "    test = [x.strip() for x in open(f'day_{day}_test.txt', 'r')]\n",
    "    for line in test[:10]:\n",
    "        print(line.strip())\n",
    "print(\"---\")\n",
    "if os.path.exists(f\"day_{day}_test_2.txt\"):\n",
    "    test_2 = [x.strip() for x in open(f'day_{day}_test_2.txt', 'r')]\n",
    "    for line in test[:10]:\n",
    "        print(line.strip())\n",
    "print(\"---\")\n",
    "lines = [x.strip() for x in open(f'day_{day}_input.txt', 'r')]\n",
    "for line in lines[:10]:\n",
    "    print(line.strip())"
   ]
  },
  {
   "cell_type": "code",
   "execution_count": 64,
   "id": "ef00603d-e147-4054-b35c-9b3e7f3e7782",
   "metadata": {},
   "outputs": [
    {
     "name": "stdout",
     "output_type": "stream",
     "text": [
      "62491\n"
     ]
    }
   ],
   "source": [
    "from pprint import pprint\n",
    "from operator import mul\n",
    "from functools import reduce\n",
    "\n",
    "monkeys = dict()\n",
    "current_monkey = \"\"\n",
    "for line in lines:\n",
    "    #print(line)\n",
    "    if line.startswith('Monkey'):\n",
    "        current_monkey = int(line.split(' ')[1][:-1])\n",
    "        monkeys[current_monkey] = {}\n",
    "    elif line.startswith('Starting'):\n",
    "        monkeys[current_monkey]['start'] = [int(x) for x in line.split(':')[1].split(',')]\n",
    "    elif line.startswith('Operation'):\n",
    "        monkeys[current_monkey]['op'] = line.split(':')[1].strip()\n",
    "    elif line.startswith('Test'):\n",
    "        monkeys[current_monkey]['test'] = int(line.split(':')[1].split(' ')[3])\n",
    "    elif line.startswith('If true'):\n",
    "        monkeys[current_monkey]['true'] = int(line.split(':')[1].split(' ')[4])\n",
    "    elif line.startswith('If false'):\n",
    "        monkeys[current_monkey]['false'] = int(line.split(':')[1].split(' ')[4])\n",
    "    monkeys[current_monkey]['inspects'] = 0\n",
    "#pprint(monkeys)\n",
    "        \n",
    "for r in range(20):\n",
    "    # one round\n",
    "    for m in range(len(monkeys.keys())):\n",
    "        # inspect\n",
    "        for old in monkeys[m]['start']:\n",
    "            exec(monkeys[m]['op'])\n",
    "            new = new // 3\n",
    "            if new % monkeys[m]['test'] == 0:\n",
    "                monkeys[monkeys[m]['true']]['start'].append(new)\n",
    "            else:\n",
    "                monkeys[monkeys[m]['false']]['start'].append(new)\n",
    "            monkeys[m]['inspects']+=1\n",
    "        monkeys[m]['start']= []\n",
    "\n",
    "#pprint(monkeys)\n",
    "print(reduce(mul,sorted([monkey['inspects'] for monkey in monkeys.values()])[-2:]))\n",
    "\n",
    "#WRONG 14402400084"
   ]
  }
 ],
 "metadata": {
  "kernelspec": {
   "display_name": "Python 3 (ipykernel)",
   "language": "python",
   "name": "python3"
  },
  "language_info": {
   "codemirror_mode": {
    "name": "ipython",
    "version": 3
   },
   "file_extension": ".py",
   "mimetype": "text/x-python",
   "name": "python",
   "nbconvert_exporter": "python",
   "pygments_lexer": "ipython3",
   "version": "3.8.15"
  }
 },
 "nbformat": 4,
 "nbformat_minor": 5
}
