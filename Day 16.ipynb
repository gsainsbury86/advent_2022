{
 "cells": [
  {
   "cell_type": "code",
   "execution_count": 3,
   "id": "8800285a-d50d-4755-9741-84f9ddb97890",
   "metadata": {},
   "outputs": [
    {
     "name": "stdout",
     "output_type": "stream",
     "text": [
      "Valve AA has flow rate=0; tunnels lead to valves DD, II, BB\n",
      "Valve BB has flow rate=13; tunnels lead to valves CC, AA\n",
      "Valve CC has flow rate=2; tunnels lead to valves DD, BB\n",
      "Valve DD has flow rate=20; tunnels lead to valves CC, AA, EE\n",
      "Valve EE has flow rate=3; tunnels lead to valves FF, DD\n",
      "Valve FF has flow rate=0; tunnels lead to valves EE, GG\n",
      "Valve GG has flow rate=0; tunnels lead to valves FF, HH\n",
      "Valve HH has flow rate=22; tunnel leads to valve GG\n",
      "Valve II has flow rate=0; tunnels lead to valves AA, JJ\n",
      "Valve JJ has flow rate=21; tunnel leads to valve II\n",
      "---\n",
      "---\n",
      "Valve SZ has flow rate=0; tunnels lead to valves GQ, YZ\n",
      "Valve SP has flow rate=0; tunnels lead to valves LJ, AA\n",
      "Valve LQ has flow rate=0; tunnels lead to valves EY, JT\n",
      "Valve AT has flow rate=17; tunnels lead to valves DX, BU, NE, BR, TD\n",
      "Valve IR has flow rate=0; tunnels lead to valves XN, UI\n",
      "Valve CF has flow rate=0; tunnels lead to valves XN, BR\n",
      "Valve TE has flow rate=0; tunnels lead to valves YA, RY\n",
      "Valve GQ has flow rate=22; tunnels lead to valves SZ, AQ, OW, XJ\n",
      "Valve DX has flow rate=0; tunnels lead to valves HI, AT\n",
      "Valve AQ has flow rate=0; tunnels lead to valves AZ, GQ\n"
     ]
    }
   ],
   "source": [
    "import requests\n",
    "year = 2022\n",
    "day = 16\n",
    "\n",
    "url = f\"https://adventofcode.com/{year}/day/{day}/input\"\n",
    "\n",
    "with open('cookie.txt', 'r') as file:\n",
    "    session = file.read()\n",
    "\n",
    "headers = {'cookie': f\"session={session}\"}\n",
    "\n",
    "with open(f'day_{day}_input.txt', 'wb') as file:\n",
    "    file.write(requests.get(url, headers=headers).content)\n",
    "    \n",
    "import os\n",
    "if os.path.exists(f\"day_{day}_test.txt\"):\n",
    "    test = [x.strip() for x in open(f'day_{day}_test.txt', 'r')]\n",
    "    for line in test[:10]:\n",
    "        print(line.strip())\n",
    "print(\"---\")\n",
    "if os.path.exists(f\"day_{day}_test_2.txt\"):\n",
    "    test_2 = [x.strip() for x in open(f'day_{day}_test_2.txt', 'r')]\n",
    "    for line in test[:10]:\n",
    "        print(line.strip())\n",
    "print(\"---\")\n",
    "lines = [x.strip() for x in open(f'day_{day}_input.txt', 'r')]\n",
    "for line in lines[:10]:\n",
    "    print(line.strip())"
   ]
  },
  {
   "cell_type": "code",
   "execution_count": 4,
   "id": "c363ed4c-7ede-48b2-9fda-506cb6fa3777",
   "metadata": {},
   "outputs": [],
   "source": [
    "import re\n",
    "\n",
    "run_test = True\n",
    "\n",
    "if run_test:\n",
    "    case = test\n",
    "else:\n",
    "    case = lines\n",
    "    \n",
    "V = []\n",
    "for line in test:\n",
    "    pattern = r\"Valve (\\S+) has flow rate=(\\d+); tunnels? leads? to valves? ([\\S, ]+)\"\n",
    "    groups = re.findall(pattern,line)\n",
    "    s = groups[0][0]\n",
    "    p = int(groups[0][1])\n",
    "    ts = [x.strip() for x in groups[0][2].split(',')]\n",
    "    for t in ts:\n",
    "        V.append((s,p,t))\n",
    "    #Sx,Sy,Bx,By = [int(x) for x in groups[0]]    \n",
    "    \n",
    "#print(V)\n",
    "\n",
    "\n",
    "# def step_forwards(pos, curr_pressure, move):\n",
    "#     for v in [v for v in V if v[0] == pos]:\n",
    "#         if v not in O:\n",
    "#             if v[1] > 0:\n",
    "#                 O.append(v)\n",
    "#                 print(f\"open {v}\")\n",
    "#                 move +=1 \n",
    "#             else:\n",
    "#                 pos = v[2]\n",
    "#                 print(f\"move {v}\")\n",
    "#                 move +=1\n",
    "#         break\n",
    "            \n",
    "#     return pos, curr_pressure + sum([v[1] for v in O]), move\n",
    "\n",
    "    \n",
    "# def advance_time(pressure):\n",
    "#     pass\n",
    "\n",
    "# O = []\n",
    "\n",
    "# pos = 'AA'\n",
    "# move = 0\n",
    "# curr_pressure = 0\n",
    "# while move < 30:\n",
    "#     pos, curr_pressure, move = step_forwards(pos,curr_pressure, move)\n",
    "#     print(pos, curr_pressure, move, O)\n",
    "\n",
    "\n"
   ]
  },
  {
   "cell_type": "code",
   "execution_count": 71,
   "id": "5ab31547-b0d5-4aa6-accb-199dc04ffe68",
   "metadata": {},
   "outputs": [
    {
     "name": "stdout",
     "output_type": "stream",
     "text": [
      "[('AA', 0, 'DD'), ('AA', 0, 'II'), ('AA', 0, 'BB'), ('BB', 13, 'CC'), ('BB', 13, 'AA'), ('CC', 2, 'DD'), ('CC', 2, 'BB'), ('DD', 20, 'CC'), ('DD', 20, 'AA'), ('DD', 20, 'EE'), ('EE', 3, 'FF'), ('EE', 3, 'DD'), ('FF', 0, 'EE'), ('FF', 0, 'GG'), ('GG', 0, 'FF'), ('GG', 0, 'HH'), ('HH', 22, 'GG'), ('II', 0, 'AA'), ('II', 0, 'JJ'), ('JJ', 21, 'II')]\n",
      "{('AA', 0, ()): 0, ('DD', 1, ()): 0, ('DD', 2, ()): 0, ('DD', 3, ()): 0, ('DD', 4, ()): 0, ('DD', 4, (('AA', 0, 'DD'),)): 0, ('DD', 4, (('AA', 0, 'II'),)): 0, ('DD', 4, (('AA', 0, 'BB'),)): 0, ('DD', 3, (('AA', 0, 'DD'),)): 0, ('DD', 4, (('AA', 0, 'DD'), ('AA', 0, 'II'))): 0, ('DD', 4, (('AA', 0, 'DD'), ('AA', 0, 'BB'))): 0, ('DD', 3, (('AA', 0, 'II'),)): 0, ('DD', 4, (('AA', 0, 'II'), ('AA', 0, 'DD'))): 0, ('DD', 4, (('AA', 0, 'II'), ('AA', 0, 'BB'))): 0, ('DD', 3, (('AA', 0, 'BB'),)): 0, ('DD', 4, (('AA', 0, 'BB'), ('AA', 0, 'DD'))): 0, ('DD', 4, (('AA', 0, 'BB'), ('AA', 0, 'II'))): 0, ('DD', 2, (('AA', 0, 'DD'),)): 0, ('DD', 3, (('AA', 0, 'DD'), ('AA', 0, 'II'))): 0, ('DD', 4, (('AA', 0, 'DD'), ('AA', 0, 'II'), ('AA', 0, 'BB'))): 0, ('DD', 3, (('AA', 0, 'DD'), ('AA', 0, 'BB'))): 0, ('DD', 4, (('AA', 0, 'DD'), ('AA', 0, 'BB'), ('AA', 0, 'II'))): 0, ('DD', 2, (('AA', 0, 'II'),)): 0, ('DD', 3, (('AA', 0, 'II'), ('AA', 0, 'DD'))): 0, ('DD', 4, (('AA', 0, 'II'), ('AA', 0, 'DD'), ('AA', 0, 'BB'))): 0, ('DD', 3, (('AA', 0, 'II'), ('AA', 0, 'BB'))): 0, ('DD', 4, (('AA', 0, 'II'), ('AA', 0, 'BB'), ('AA', 0, 'DD'))): 0, ('DD', 2, (('AA', 0, 'BB'),)): 0, ('DD', 3, (('AA', 0, 'BB'), ('AA', 0, 'DD'))): 0, ('DD', 4, (('AA', 0, 'BB'), ('AA', 0, 'DD'), ('AA', 0, 'II'))): 0, ('DD', 3, (('AA', 0, 'BB'), ('AA', 0, 'II'))): 0, ('DD', 4, (('AA', 0, 'BB'), ('AA', 0, 'II'), ('AA', 0, 'DD'))): 0, ('AA', 1, (('AA', 0, 'DD'),)): 0, ('AA', 2, (('AA', 0, 'DD'), ('AA', 0, 'II'))): 0, ('AA', 3, (('AA', 0, 'DD'), ('AA', 0, 'II'), ('AA', 0, 'BB'))): 0, ('AA', 2, (('AA', 0, 'DD'), ('AA', 0, 'BB'))): 0, ('AA', 3, (('AA', 0, 'DD'), ('AA', 0, 'BB'), ('AA', 0, 'II'))): 0, ('AA', 1, (('AA', 0, 'II'),)): 0, ('AA', 2, (('AA', 0, 'II'), ('AA', 0, 'DD'))): 0, ('AA', 3, (('AA', 0, 'II'), ('AA', 0, 'DD'), ('AA', 0, 'BB'))): 0, ('AA', 2, (('AA', 0, 'II'), ('AA', 0, 'BB'))): 0, ('AA', 3, (('AA', 0, 'II'), ('AA', 0, 'BB'), ('AA', 0, 'DD'))): 0, ('AA', 1, (('AA', 0, 'BB'),)): 0, ('AA', 2, (('AA', 0, 'BB'), ('AA', 0, 'DD'))): 0, ('AA', 3, (('AA', 0, 'BB'), ('AA', 0, 'DD'), ('AA', 0, 'II'))): 0, ('AA', 2, (('AA', 0, 'BB'), ('AA', 0, 'II'))): 0, ('AA', 3, (('AA', 0, 'BB'), ('AA', 0, 'II'), ('AA', 0, 'DD'))): 0}\n"
     ]
    }
   ],
   "source": [
    "print(V)\n",
    "\n",
    "# At each step, options are:\n",
    "    # move, open\n",
    "    \n",
    "DP = dict()\n",
    "\n",
    "def advance_time(position, time, current_open_valves, current_pressure_released):\n",
    "    \n",
    "    if time == 5:\n",
    "        return current_pressure_released\n",
    "    \n",
    "    state = (position, time, current_open_valves)\n",
    "    if state in DP:\n",
    "        return DP[state]\n",
    "    else:\n",
    "        current_pressure_released += sum([v[1] for v in current_open_valves])\n",
    "        DP[state] = current_pressure_released\n",
    "\n",
    "        # Move\n",
    "        for v in [v for v in V if v[0] == path[-1][2]]:\n",
    "            advance_time(v[0], time+1, current_open_valves, current_pressure_released)\n",
    "\n",
    "        # Open\n",
    "        for v in [v for v in V if v[0] == path[-1][0] and v not in current_open_valves]:\n",
    "            advance_time(position, time+1, current_open_valves + tuple([v]), current_pressure_released)\n",
    "    \n",
    "\n",
    "advance_time(V[0][0],0,(),0)\n",
    "# Too slow\n",
    "print(DP)"
   ]
  },
  {
   "cell_type": "code",
   "execution_count": 60,
   "id": "fd713f44-8b8b-496d-a18a-ed4e6c393127",
   "metadata": {},
   "outputs": [
    {
     "name": "stdout",
     "output_type": "stream",
     "text": [
      "[('AA', 0, 'DD'), ('AA', 0, 'II'), ('AA', 0, 'BB'), ('BB', 13, 'CC'), ('BB', 13, 'AA'), ('CC', 2, 'DD'), ('CC', 2, 'BB'), ('DD', 20, 'CC'), ('DD', 20, 'AA'), ('DD', 20, 'EE'), ('EE', 3, 'FF'), ('EE', 3, 'DD'), ('FF', 0, 'EE'), ('FF', 0, 'GG'), ('GG', 0, 'FF'), ('GG', 0, 'HH'), ('HH', 22, 'GG'), ('II', 0, 'AA'), ('II', 0, 'JJ'), ('JJ', 21, 'II')]\n",
      "('DD', 20, 'CC')\n",
      "('DD', 20, 'AA')\n",
      "('DD', 20, 'EE')\n"
     ]
    }
   ],
   "source": [
    "print(V)\n",
    "\n",
    "# find best solution for position x, minute y, open valves Z"
   ]
  }
 ],
 "metadata": {
  "kernelspec": {
   "display_name": "Python 3 (ipykernel)",
   "language": "python",
   "name": "python3"
  },
  "language_info": {
   "codemirror_mode": {
    "name": "ipython",
    "version": 3
   },
   "file_extension": ".py",
   "mimetype": "text/x-python",
   "name": "python",
   "nbconvert_exporter": "python",
   "pygments_lexer": "ipython3",
   "version": "3.10.6"
  }
 },
 "nbformat": 4,
 "nbformat_minor": 5
}
