{
 "cells": [
  {
   "cell_type": "code",
   "execution_count": 6,
   "id": "5fef7f63-cdd7-4621-af19-380504f14e20",
   "metadata": {},
   "outputs": [],
   "source": [
    "import requests\n",
    "year = 2022\n",
    "day = 13\n",
    "url = f\"https://adventofcode.com/{year}/day/{day}/input\"\n",
    "\n",
    "with open('cookie.txt', 'r') as file:\n",
    "    session = file.read()\n",
    "\n",
    "headers = {'cookie': f\"session={session}\"}\n",
    "\n",
    "with open(f'day_{day}_input.txt', 'wb') as file:\n",
    "    file.write(requests.get(url, headers=headers).content)"
   ]
  },
  {
   "cell_type": "code",
   "execution_count": 7,
   "id": "42a0e52e-bcb0-422b-bf68-59edb25f8234",
   "metadata": {},
   "outputs": [],
   "source": [
    "day = 13\n",
    "\n",
    "import os\n",
    "if os.path.exists(f\"day_{day}_test.txt\"):\n",
    "    test = [x.strip() for x in open(f'day_{day}_test.txt', 'r')]\n",
    "lines = [x.strip() for x in open(f'day_{day}_input.txt', 'r')]"
   ]
  },
  {
   "cell_type": "code",
   "execution_count": 286,
   "id": "f10b09ea-e30e-414d-941c-e00d57b950b1",
   "metadata": {},
   "outputs": [
    {
     "name": "stdout",
     "output_type": "stream",
     "text": [
      "6076\n"
     ]
    }
   ],
   "source": [
    "case = lines\n",
    "list_of_pairs = [(case[3*i],case[3*i+1]) for i in range(len(case)//3+1)]\n",
    "\n",
    "def compare(p1,p2):\n",
    "    if isinstance(p1,list) and isinstance(p2,int):\n",
    "        return compare(p1,[p2])\n",
    "    if isinstance(p1,int) and isinstance(p2,list):\n",
    "        return compare([p1],p2)\n",
    "    if isinstance(p1,int) and isinstance(p2,int):\n",
    "        if p1 < p2:\n",
    "            return -1\n",
    "        if p2 < p1:\n",
    "            return 1\n",
    "    else:\n",
    "        comparisons = list()\n",
    "        for i in range(0,min(len(p1),len(p2))):\n",
    "            comparisons.append( compare(p1[i],p2[i]))\n",
    "            \n",
    "        for c in comparisons:\n",
    "            if c is not None:\n",
    "                return c\n",
    "        \n",
    "        if len(p1) > len(p2):\n",
    "            return 1\n",
    "        if len(p2) > len(p1):\n",
    "            return -1\n",
    "            \n",
    "\n",
    "sum_of_indices = 0\n",
    "for i, pairs in enumerate(list_of_pairs):\n",
    "    done = False\n",
    "    p1 = eval(pairs[0])\n",
    "    p2 = eval(pairs[1])\n",
    "    a = compare(p1,p2)\n",
    "    if a == -1:\n",
    "        sum_of_indices += i+1\n",
    "        \n",
    "print(sum_of_indices)"
   ]
  },
  {
   "cell_type": "code",
   "execution_count": 284,
   "id": "3006eff8-21cc-4420-b0c8-c9f903837e2c",
   "metadata": {},
   "outputs": [
    {
     "name": "stdout",
     "output_type": "stream",
     "text": [
      "13\n"
     ]
    }
   ],
   "source": [
    "case = test\n",
    "list_of_pairs = [(case[3*i],case[3*i+1]) for i in range(len(case)//3+1)]\n",
    "\n",
    "def compare(p1,p2):\n",
    "    if isinstance(p1,list) and isinstance(p2,int):\n",
    "        return compare(p1,[p2])\n",
    "    if isinstance(p1,int) and isinstance(p2,list):\n",
    "        return compare([p1],p2)\n",
    "    if isinstance(p1,int) and isinstance(p2,int):\n",
    "        if p1 < p2:\n",
    "            return -1\n",
    "        if p2 < p1:\n",
    "            return 1\n",
    "    else:\n",
    "        comparisons = list()\n",
    "        for i in range(0,min(len(p1),len(p2))):\n",
    "            comparisons.append( compare(p1[i],p2[i]))\n",
    "            \n",
    "        for c in comparisons:\n",
    "            if c is not None:\n",
    "                return c\n",
    "        \n",
    "        if len(p1) > len(p2):\n",
    "            return 1\n",
    "        if len(p2) > len(p1):\n",
    "            return -1\n",
    "            \n",
    "\n",
    "sum_of_indices = 0\n",
    "for i, pairs in enumerate(list_of_pairs):\n",
    "    done = False\n",
    "    p1 = eval(pairs[0])\n",
    "    p2 = eval(pairs[1])\n",
    "    a = compare(p1,p2)\n",
    "    if a == -1:\n",
    "        sum_of_indices += i+1\n",
    "        \n",
    "print(sum_of_indices)"
   ]
  },
  {
   "cell_type": "code",
   "execution_count": 293,
   "id": "3b0303d5-d25a-400c-b11d-5b5c46513f4b",
   "metadata": {},
   "outputs": [
    {
     "name": "stdout",
     "output_type": "stream",
     "text": [
      "24805\n"
     ]
    }
   ],
   "source": [
    "# Part 2\n",
    "import itertools\n",
    "\n",
    "case = lines\n",
    "#print(case)\n",
    "all_lines = [eval(c) for c in case if not c == '']\n",
    "# print(all_lines)\n",
    "\n",
    "dk_1 = [[2]]\n",
    "dk_2 = [[6]]\n",
    "all_lines.append(dk_1)\n",
    "all_lines.append(dk_2)\n",
    "\n",
    "def compare(p1,p2):\n",
    "    if isinstance(p1,list) and isinstance(p2,int):\n",
    "        return compare(p1,[p2])\n",
    "    if isinstance(p1,int) and isinstance(p2,list):\n",
    "        return compare([p1],p2)\n",
    "    if isinstance(p1,int) and isinstance(p2,int):\n",
    "        if p1 < p2:\n",
    "            return -1\n",
    "        if p2 < p1:\n",
    "            return 1\n",
    "    else:\n",
    "        comparisons = list()\n",
    "        for i in range(0,min(len(p1),len(p2))):\n",
    "            comparisons.append( compare(p1[i],p2[i]))\n",
    "            \n",
    "        for c in comparisons:\n",
    "            if c is not None:\n",
    "                return c\n",
    "        \n",
    "        if len(p1) > len(p2):\n",
    "            return 1\n",
    "        if len(p2) > len(p1):\n",
    "            return -1\n",
    "            \n",
    "import functools\n",
    "\n",
    "all_lines.sort(key=functools.cmp_to_key(compare))\n",
    "# for x in all_lines:\n",
    "#     print(x)\n",
    "\n",
    "i_1 = all_lines.index(dk_1) + 1\n",
    "i_2 = all_lines.index(dk_2) + 1\n",
    "print(i_1 * i_2)"
   ]
  }
 ],
 "metadata": {
  "kernelspec": {
   "display_name": "Python 3 (ipykernel)",
   "language": "python",
   "name": "python3"
  },
  "language_info": {
   "codemirror_mode": {
    "name": "ipython",
    "version": 3
   },
   "file_extension": ".py",
   "mimetype": "text/x-python",
   "name": "python",
   "nbconvert_exporter": "python",
   "pygments_lexer": "ipython3",
   "version": "3.10.6"
  }
 },
 "nbformat": 4,
 "nbformat_minor": 5
}
