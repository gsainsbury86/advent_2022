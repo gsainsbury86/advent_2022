{
 "cells": [
  {
   "cell_type": "code",
   "execution_count": 64,
   "id": "3b28f4a6-a785-4a41-a38a-f3fe9f3cf248",
   "metadata": {},
   "outputs": [],
   "source": [
    "import requests\n",
    "year = 2022\n",
    "day = 8\n",
    "url = f\"https://adventofcode.com/{year}/day/{day}/input\"\n",
    "\n",
    "with open('cookie.txt', 'r') as file:\n",
    "    session = file.read()\n",
    "\n",
    "headers = {'cookie': f\"session={session}\"}\n",
    "\n",
    "with open(f'day_{day}_input.txt', 'wb') as file:\n",
    "    file.write(requests.get(url, headers=headers).content)"
   ]
  },
  {
   "cell_type": "code",
   "execution_count": 65,
   "id": "22a87c30-6e71-4399-8b6a-51cc9f82deac",
   "metadata": {},
   "outputs": [
    {
     "name": "stdout",
     "output_type": "stream",
     "text": [
      "021100121022300121020304244001134204213440331423351253455312304202000142430440402000102100010012001\n",
      "212112200302012112114404004343323010001555344131524354533222421401044024100314311233132333120002120\n",
      "001112132022031311343013411004034101221451551452553134332114313511202230442322401330020011133310011\n",
      "101011102332213111204044323030241245514513514352125432511431552112212230211120021101213101021332122\n",
      "120201331023003122211414102411241333454454415533145542132412521355224314032201023041331022233003212\n",
      "111201133202120233040101144053431335432322531225552142451355332245423344140444023441431231311003220\n",
      "210220301323331223114023214251133322312334113524445351433322242414523254353321044124443201331301120\n",
      "002220010002313343434033243351213114211241525454566342213254153255525512234354342213032240332302033\n",
      "110022102004420431301015343132544343554162542463343236455532544153414313554154243110304330112311332\n",
      "101122133314020410121342231311535243362566353264634235633255233421453134445222411112032343033003020\n",
      "312122323430244102023214412314455535653626355642333536446663534344514234454432512331012210343110331\n",
      "102121011122421340411235231142223262366522453366665342434233556652534434234524555514020123034333132\n",
      "233001100430210405431555214251263246524633556253255335443664225662352533241143545442310012420202002\n",
      "332233344204032414234154144433344354645565356665552364265454662445624446413334232524502200341111202\n",
      "223102143031020231344325533663652454434265423436364734665334543225634666435522542524120140041413130\n",
      "321000340443405412131512466633625336263625455634443645436442326654324336563515445544423044322200011\n",
      "322101030124113452324444225356545426445466436576746567557453656665263322524342414223555532104311100\n",
      "200233122013252423324352535666335562473534667534365374536636635764646436452652151424221242242002333\n",
      "122444442345121153134326544563633437575346544373636766563665656545545445325464645232353353002141313\n",
      "013022430132321515326235333433335336336637576746435546577576644564773522636636443213434225130413143\n"
     ]
    }
   ],
   "source": [
    "lines = [x.strip() for x in open(f'day_{day}_input.txt', 'r')]\n",
    "for line in lines[:20]:\n",
    "    print(line.strip())"
   ]
  },
  {
   "cell_type": "code",
   "execution_count": 59,
   "id": "14034eae-4d1d-466f-8aca-2cb9e5d5a599",
   "metadata": {},
   "outputs": [
    {
     "name": "stdout",
     "output_type": "stream",
     "text": [
      "[[0 2 1 ... 0 0 1]\n",
      " [2 1 2 ... 1 2 0]\n",
      " [0 0 1 ... 0 1 1]\n",
      " ...\n",
      " [0 0 1 ... 1 1 0]\n",
      " [2 1 0 ... 0 2 0]\n",
      " [0 0 1 ... 2 1 1]]\n",
      "[[0 2 0 ... 0 2 0]\n",
      " [0 1 0 ... 0 1 2]\n",
      " [1 0 1 ... 1 2 1]\n",
      " ...\n",
      " [2 0 1 ... 0 1 0]\n",
      " [1 2 1 ... 1 2 0]\n",
      " [1 0 0 ... 1 0 1]]\n",
      "[[0. 0. 0. ... 0. 0. 0.]\n",
      " [0. 0. 0. ... 0. 0. 0.]\n",
      " [0. 0. 0. ... 0. 0. 0.]\n",
      " ...\n",
      " [0. 0. 0. ... 0. 0. 0.]\n",
      " [1. 1. 0. ... 0. 1. 0.]\n",
      " [1. 1. 1. ... 1. 1. 1.]]\n",
      "[[ True  True  True ...  True  True  True]\n",
      " [ True False  True ...  True  True  True]\n",
      " [ True False  True ... False False  True]\n",
      " ...\n",
      " [ True False  True ... False  True  True]\n",
      " [ True  True False ... False  True  True]\n",
      " [ True  True  True ...  True  True  True]]\n",
      "1809\n"
     ]
    }
   ],
   "source": [
    "import numpy as np\n",
    "\n",
    "trees = np.zeros(shape=(len(lines[0]),len(lines)),dtype=int)\n",
    "\n",
    "for i, line in enumerate(lines):\n",
    "    trees[i] = [int(x) for x in line.strip()]\n",
    "\n",
    "\n",
    "visibility = dict()\n",
    "#visible_from_left\n",
    "#left, down, right, up\n",
    "for v, trees_from_dir in enumerate([trees, trees.T, np.flip(trees, 1), np.flip(trees.T,1)]):\n",
    "    visibility[v] = np.zeros(shape=trees.shape)\n",
    "    max_height = -1\n",
    "    for i, row in enumerate(trees_from_dir):\n",
    "        for j, tree in enumerate(row):\n",
    "            if tree > max_height:\n",
    "                visibility[v][i,j] = 1\n",
    "                max_height = tree\n",
    "        max_height = -1\n",
    "        \n",
    "print(trees)\n",
    "# print(visibility[0])\n",
    "# print(trees.T)\n",
    "# print(visibility[1].T)\n",
    "# print(np.flip(trees,1))\n",
    "# print(np.flip(visibility[2],1))\n",
    "print(np.flip(trees.T,1))\n",
    "print(np.flip(visibility[3],1).T)\n",
    "\n",
    "\n",
    "        \n",
    "a = np.logical_or(visibility[0],visibility[1].T)\n",
    "b = np.logical_or(np.flip(visibility[2],1),np.flip(visibility[3].T,0))\n",
    "c = np.logical_or(a,b)\n",
    "print(c)\n",
    "print(len(np.argwhere(c==True)))"
   ]
  },
  {
   "cell_type": "code",
   "execution_count": 61,
   "id": "0f40a48b-7837-401f-878e-ddc952da1e82",
   "metadata": {},
   "outputs": [
    {
     "name": "stdout",
     "output_type": "stream",
     "text": [
      "479400\n",
      "78,47\n"
     ]
    }
   ],
   "source": [
    "\n",
    "\n",
    "def scenic(row_of_trees, tree):\n",
    "    if len(row_of_trees) == 0:\n",
    "        return 0\n",
    "    previous = 0\n",
    "    for i, t in enumerate(row_of_trees):\n",
    "        #print(i,t,tree)\n",
    "        if t >= tree:\n",
    "            return i + 1\n",
    "    return len(row_of_trees)\n",
    "        \n",
    "scenics = dict()\n",
    "    \n",
    "for i, row in enumerate(trees):\n",
    "    for j, tree in enumerate(row):\n",
    "        # if i != 3 or j != 2:\n",
    "        #     continue\n",
    "        up = np.flip(trees[:i,j],0)\n",
    "        left = np.flip(trees[i,:j],0)\n",
    "        down = trees[i+1:,j]\n",
    "        right = trees[i,j+1:]\n",
    "        su = scenic(up, tree)\n",
    "        sl = scenic(left, tree)\n",
    "        sd = scenic(down, tree)\n",
    "        sr = scenic(right, tree)\n",
    "        scenics[f\"{i},{j}\"] = su*sl*sd*sr\n",
    "\n",
    "print(max(scenics.values()))\n",
    "print([k for k, v in scenics.items() if v == max(scenics.values())][0])\n",
    "# WRONG 600 (too low)\n",
    "# WRONG 224 (too low)"
   ]
  },
  {
   "cell_type": "code",
   "execution_count": null,
   "id": "4c49e99e-4e49-42f7-b3c1-d329cad1d0c5",
   "metadata": {},
   "outputs": [],
   "source": []
  },
  {
   "cell_type": "code",
   "execution_count": null,
   "id": "9f703da8-8393-4a77-93a8-f371d98e24ec",
   "metadata": {},
   "outputs": [],
   "source": []
  },
  {
   "cell_type": "code",
   "execution_count": null,
   "id": "932e41f0-e0d3-4cfc-8105-aa4f0dd07daf",
   "metadata": {},
   "outputs": [],
   "source": []
  },
  {
   "cell_type": "code",
   "execution_count": null,
   "id": "5996a39c-cdc4-4912-b583-f84f12bd66a9",
   "metadata": {},
   "outputs": [],
   "source": []
  }
 ],
 "metadata": {
  "kernelspec": {
   "display_name": "Python 3 (ipykernel)",
   "language": "python",
   "name": "python3"
  },
  "language_info": {
   "codemirror_mode": {
    "name": "ipython",
    "version": 3
   },
   "file_extension": ".py",
   "mimetype": "text/x-python",
   "name": "python",
   "nbconvert_exporter": "python",
   "pygments_lexer": "ipython3",
   "version": "3.10.6"
  }
 },
 "nbformat": 4,
 "nbformat_minor": 5
}
